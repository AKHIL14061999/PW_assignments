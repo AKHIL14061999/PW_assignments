{
 "cells": [
  {
   "cell_type": "code",
   "execution_count": 1,
   "id": "4a9f6873-a163-4803-b72f-f84d7c5e2165",
   "metadata": {},
   "outputs": [
    {
     "name": "stdout",
     "output_type": "stream",
     "text": [
      "0     4\n",
      "1     8\n",
      "2    15\n",
      "3    16\n",
      "4    23\n",
      "5    42\n",
      "dtype: int64\n"
     ]
    }
   ],
   "source": [
    "#Q1. Create a Pandas Series that contains the following data: 4, 8, 15, 16, 23, and 42. Then, print the series.\n",
    "#Ans.\n",
    "import pandas as a\n",
    "\n",
    "data=[4,8,15,16,23,42]\n",
    "df=a.Series(data)\n",
    "print(df)"
   ]
  },
  {
   "cell_type": "code",
   "execution_count": null,
   "id": "57dcdd99-bba0-4322-a948-45d18fb30e65",
   "metadata": {},
   "outputs": [],
   "source": [
    "#Q2. Create a variable of list type containing 10 elements in it, and apply pandas.Series function on the variable print it.\n",
    "#Ans.\n",
    "import pandas as b\n",
    "\n",
    "lst=[1,2,3,4,5,6,7,8,9,10]\n",
    "df=b.Series(lst)\n",
    "print(df)"
   ]
  },
  {
   "cell_type": "code",
   "execution_count": null,
   "id": "ccd72216-2f2f-4813-9973-f270131845c5",
   "metadata": {},
   "outputs": [],
   "source": [
    "#Q3. Create a Pandas DataFrame that contains the following data:\n",
    "#Ans.\n",
    "import pandas as c\n",
    "\n",
    "data={\"Name\": [\"Alice\", \"Bob\", \"Claire\"],\n",
    "      \"Age\" : [25,30,27],\n",
    "      \"Gender\" : [\"Female\",\"Male\",\"Female\"]\n",
    "     }\n",
    "df=c.DataFrame(data)\n",
    "print(df)"
   ]
  },
  {
   "cell_type": "code",
   "execution_count": 2,
   "id": "5b0861cc-6527-452c-9b5e-c2651c73c9d4",
   "metadata": {},
   "outputs": [
    {
     "name": "stdout",
     "output_type": "stream",
     "text": [
      "     Name  Age  Gender\n",
      "0   Alice   25  Female\n",
      "1     Bob   30    Male\n",
      "2  Claire   27  Female\n",
      "0    25\n",
      "1    30\n",
      "2    27\n",
      "Name: Age, dtype: int64\n"
     ]
    }
   ],
   "source": [
    "#Q4. What is ‘DataFrame’ in pandas and how is it different from pandas.series? Explain with an example.\n",
    "#Ans.\n",
    "#A Pandas DataFrame is a 2-dimensional labeled data structure with columns of potentially different data types, similar to a spreadsheet or SQL table.\n",
    "#A Pandas Series, on the other hand, is a one-dimensional labeled array that can hold data of any data type.\n",
    "#The Pandas Series only contains the values from the 'Age' column, while the Pandas DataFrame contains all the columns and associated data.\n",
    "import pandas as pd\n",
    "\n",
    "# create a dictionary of data\n",
    "data = {'Name': ['Alice', 'Bob', 'Claire'],\n",
    "        'Age': [25, 30, 27],\n",
    "        'Gender': ['Female', 'Male', 'Female']}\n",
    "\n",
    "# create a DataFrame from the dictionary\n",
    "df = pd.DataFrame(data)\n",
    "\n",
    "# create a Series from the 'Age' column of the DataFrame\n",
    "age_series = df['Age']\n",
    "\n",
    "print(df)\n",
    "print(age_series)"
   ]
  },
  {
   "cell_type": "code",
   "execution_count": null,
   "id": "8c9acd93-a988-427b-b7ad-4067d2a33743",
   "metadata": {},
   "outputs": [],
   "source": [
    "#Q5. What are some common functions you can use to manipulate data in a Pandas DataFrame? Can you give an example of when you might use one of these functions?\n",
    "#Ans.\n",
    "#Some common functions that can be used to manipulate data in a Pandas DataFrame include:\n",
    "#1. head() and tail(): These functions are used to display the first few or last few rows of the DataFrame, respectively. \n",
    "#For example, df.head() would display the first 5 rows of the DataFrame df.\n",
    "#2. drop(): This function is used to remove rows or columns from the DataFrame. \n",
    "#For example, df.drop(0) would remove the first row of the DataFrame df.\n",
    "#3. fillna(): This function is used to fill missing values in the DataFrame with a specified value or method. \n",
    "#For example, df.fillna(0) would fill all missing values in the DataFrame df with 0.\n",
    "\n",
    "a = df.head(2)\n",
    "b = df.tail(1)\n",
    "print(a)\n",
    "print(b)"
   ]
  },
  {
   "cell_type": "markdown",
   "id": "1c7189aa-39f0-4371-9073-656c946d21a8",
   "metadata": {},
   "source": [
    "#Q6. Which of the following is mutable in nature Series, DataFrame, Panel?\n",
    "\n",
    "ans......#In pandas, both Series and DataFrame are mutable in nature, meaning that we can modify their contents after they have been created. \n",
    "#And Panel is deprecated in the latest version of pandas and replaced with MultiIndex objects, which are also mutable."
   ]
  },
  {
   "cell_type": "code",
   "execution_count": null,
   "id": "c4c109c4-6812-42bf-8437-4a7e79438322",
   "metadata": {},
   "outputs": [],
   "source": [
    "#Q7. Create a DataFrame using multiple Series. Explain with an example.\n",
    "#Ans.\n",
    "#Suppose we have three Pandas Series, name, age, and gender, which contain the following data:\n",
    "name = pd.Series(['Alice', 'Bob', 'Claire'])\n",
    "age = pd.Series([25, 30, 27])\n",
    "gender = pd.Series(['Female', 'Male', 'Female'])\n",
    "\n",
    "#To create a DataFrame using these Series, we can use the pd.DataFrame() function and pass a dictionary where the keys are the column names and the values are the Series\n",
    "df = pd.DataFrame({'Name': name, 'Age': age, 'Gender': gender})\n",
    "\n",
    "#This will create a DataFrame df with three columns named 'Name', 'Age', and 'Gender', and the data from the three Series will be inserted into the respective columns:\n",
    "print(df)"
   ]
  },
  {
   "cell_type": "code",
   "execution_count": null,
   "id": "b88b45c7-6adc-498b-a9bf-1fb16b3e5001",
   "metadata": {},
   "outputs": [],
   "source": []
  },
  {
   "cell_type": "code",
   "execution_count": null,
   "id": "a64c8f4a-9b01-4cc8-819a-1638952e682f",
   "metadata": {},
   "outputs": [],
   "source": []
  },
  {
   "cell_type": "code",
   "execution_count": null,
   "id": "46294ff7-1fb1-49d9-9af7-3646a79d9483",
   "metadata": {},
   "outputs": [],
   "source": []
  }
 ],
 "metadata": {
  "kernelspec": {
   "display_name": "Python 3 (ipykernel)",
   "language": "python",
   "name": "python3"
  },
  "language_info": {
   "codemirror_mode": {
    "name": "ipython",
    "version": 3
   },
   "file_extension": ".py",
   "mimetype": "text/x-python",
   "name": "python",
   "nbconvert_exporter": "python",
   "pygments_lexer": "ipython3",
   "version": "3.10.8"
  }
 },
 "nbformat": 4,
 "nbformat_minor": 5
}
