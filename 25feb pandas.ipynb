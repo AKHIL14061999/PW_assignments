{
 "cells": [
  {
   "cell_type": "code",
   "execution_count": 1,
   "id": "aeea4119-b6b0-4c1e-a081-4f45cf5e7a13",
   "metadata": {},
   "outputs": [
    {
     "name": "stdout",
     "output_type": "stream",
     "text": [
      "course_name    Machine Learning\n",
      "duration                      3\n",
      "Name: 1, dtype: object\n"
     ]
    }
   ],
   "source": [
    "#Q1. Write a code to print the data present in the second row of the dataframe, df.\n",
    "#Ans.\n",
    "import pandas as pd\n",
    "course_name = [\"Data Science\", \"Machine Learning\", \"Big Data\", \"Data Engineer\"]\n",
    "duration = [2,3,6,4]\n",
    "df = pd.DataFrame(data = {\"course_name\" : course_name, \"duration\" : duration})\n",
    "\n",
    "print(df.iloc[1])"
   ]
  },
  {
   "cell_type": "code",
   "execution_count": 2,
   "id": "f0749f72-1f37-462a-9bdb-d7e104b9b248",
   "metadata": {},
   "outputs": [],
   "source": [
    "#Q2. What is the difference between the functions loc and iloc in pandas.DataFrame?\n",
    "#Ans.\n",
    "#In Pandas, loc and iloc are two methods used for indexing and selecting data from a DataFrame.\n",
    "#loc is used for selecting data based on the label/index of the rows or columns.\n",
    "#iloc is used for selecting data based on the integer location of the rows or columns. "
   ]
  },
  {
   "cell_type": "code",
   "execution_count": 3,
   "id": "94b7c959-7b85-43ff-8770-7d1b80d4d6b0",
   "metadata": {},
   "outputs": [
    {
     "name": "stdout",
     "output_type": "stream",
     "text": [
      "course_name    Big Data\n",
      "duration              6\n",
      "Name: 2, dtype: object\n",
      "course_name    Machine Learning\n",
      "duration                      3\n",
      "Name: 1, dtype: object\n"
     ]
    }
   ],
   "source": [
    "#Q3. Reindex the given dataframe using a variable, reindex = [3,0,1,2] and store it in the variable, new_df then find the output for both new_df.loc[2] and new_df.iloc[2].\n",
    "#Ans.\n",
    "import pandas as pd\n",
    "course_name = [\"Data Science\", \"Machine Learning\", \"Big Data\", \"Data Engineer\"]\n",
    "duration = [2,3,6,4]\n",
    "df = pd.DataFrame(data = {\"course_name\" : course_name, \"duration\" : duration})\n",
    "\n",
    "reindex = [3, 0, 1, 2]\n",
    "\n",
    "new_df = df.reindex(index=reindex)\n",
    "\n",
    "print(new_df.loc[2])\n",
    "print(new_df.iloc[2])\n",
    "\n",
    "#The difference in the output is because loc and iloc use different methods to select rows. \n",
    "#loc uses labels to select rows, while iloc uses integer indices to select rows."
   ]
  },
  {
   "cell_type": "code",
   "execution_count": 4,
   "id": "ac971614-2eab-4e2e-aff4-d510be3b496c",
   "metadata": {},
   "outputs": [
    {
     "name": "stdout",
     "output_type": "stream",
     "text": [
      "Mean of each column:\n",
      " column_1    0.508881\n",
      "column_2    0.494381\n",
      "column_3    0.357274\n",
      "column_4    0.374858\n",
      "column_5    0.558845\n",
      "column_6    0.624020\n",
      "dtype: float64\n",
      "Standard deviation of column_2:\n",
      " 0.32482923987815865\n"
     ]
    }
   ],
   "source": [
    "#Q4. Write a code to find the following statistical measurements for the above dataframe df1:\n",
    "#(i) mean of each and every column present in the dataframe.\n",
    "#(ii) standard deviation of column, ‘column_2’\n",
    "#Ans.\n",
    "import pandas as pd\n",
    "import numpy as np\n",
    "columns = ['column_1', 'column_2', 'column_3', 'column_4', 'column_5', 'column_6']\n",
    "indices = [1,2,3,4,5,6]\n",
    "#Creating a dataframe:\n",
    "df1 = pd.DataFrame(np.random.rand(6,6), columns = columns, index = indices)\n",
    "\n",
    "# Mean of each column\n",
    "column_means = df1.mean()\n",
    "print(\"Mean of each column:\\n\", column_means)\n",
    "\n",
    "# Standard deviation of column_2\n",
    "column_2_std = df1['column_2'].std()\n",
    "print(\"Standard deviation of column_2:\\n\", column_2_std)"
   ]
  },
  {
   "cell_type": "code",
   "execution_count": 5,
   "id": "15b39ffe-7a06-4cc7-b732-4949001af507",
   "metadata": {},
   "outputs": [
    {
     "name": "stdout",
     "output_type": "stream",
     "text": [
      "Error: unsupported operand type(s) for +: 'float' and 'str'\n",
      "Mean of column_2:\n",
      " 0.5142213201296432\n"
     ]
    }
   ],
   "source": [
    "#Q5. Replace the data present in the second row of column, ‘column_2’ by a string variable then find the mean of column, column_2.\n",
    "#If you are getting errors in executing it then explain why.[Hint: To replace the data use df1.loc[] and equate this to string data of your choice.]\n",
    "#Ans.\n",
    "import pandas as pd\n",
    "import numpy as np\n",
    "\n",
    "columns = ['column_1', 'column_2', 'column_3', 'column_4', 'column_5', 'column_6']\n",
    "indices = [1,2,3,4,5,6]\n",
    "\n",
    "df1 = pd.DataFrame(np.random.rand(6,6), columns=columns, index=indices)\n",
    "\n",
    "# Replacing the data in the second row of 'column_2' with a string variable\n",
    "df1.loc[2, 'column_2'] = 'string_data'\n",
    "\n",
    "# Finding the mean of 'column_2'\n",
    "try:\n",
    "    column_2_mean = df1['column_2'].mean()\n",
    "    print(\"Mean of column_2:\\n\", column_2_mean)\n",
    "except TypeError as e:\n",
    "    print(\"Error:\", e)\n",
    "\n",
    "\n",
    "# Replacing the data in the second row of 'column_2' with a string variable\n",
    "df1.loc[2, 'column_2'] = 'string_data'\n",
    "\n",
    "# Converting 'column_2' to a numeric data type\n",
    "df1['column_2'] = pd.to_numeric(df1['column_2'], errors='coerce')\n",
    "\n",
    "# Finding the mean of 'column_2'\n",
    "column_2_mean = df1['column_2'].mean()\n",
    "print(\"Mean of column_2:\\n\", column_2_mean)"
   ]
  },
  {
   "cell_type": "code",
   "execution_count": 6,
   "id": "875299ad-834c-4e22-bc22-c60ba6db0259",
   "metadata": {},
   "outputs": [],
   "source": [
    "#Q6. What do you understand about the windows function in pandas and list the types of windows functions?\n",
    "#Ans.\n",
    "#In pandas, window functions (also known as rolling or moving functions) are used to perform calculations on a sliding window of data. \n",
    "#1. Rolling Functions\n",
    "#2. Expanding Functions\n",
    "#3. Exponentially Weighted Moving Average (EWMA) Functions\n",
    "#4. Binary Window Functions\n",
    "#5. Rolling Apply Functions\n",
    "#6. Rolling Correlation and Covariance Functions\n",
    "#7. Rolling Regression Functions"
   ]
  },
  {
   "cell_type": "code",
   "execution_count": 7,
   "id": "695dc5be-0f09-4607-8374-6ae02a370554",
   "metadata": {},
   "outputs": [
    {
     "name": "stdout",
     "output_type": "stream",
     "text": [
      "July 2023\n"
     ]
    }
   ],
   "source": [
    "#Q7. Write a code to print only the current month and year at the time of answering this question. [Hint: Use pandas.datetime function]\n",
    "#And.\n",
    "import pandas as pd\n",
    "from datetime import datetime\n",
    "\n",
    "current_month_year = datetime.now().strftime('%B %Y')\n",
    "print(current_month_year)"
   ]
  },
  {
   "cell_type": "code",
   "execution_count": 11,
   "id": "e55f06de-8c5a-4ca1-92e4-3e08fa596660",
   "metadata": {},
   "outputs": [
    {
     "name": "stdin",
     "output_type": "stream",
     "text": [
      "Enter the first date (YYYY-MM-DD):  2001-8-9\n",
      "Enter the second date (YYYY-MM-DD):  2002-5-7\n"
     ]
    },
    {
     "name": "stdout",
     "output_type": "stream",
     "text": [
      "The difference between 2001-8-9 and 2002-5-7 is:\n",
      "271 days\n",
      "0 hours\n",
      "0 minutes\n"
     ]
    }
   ],
   "source": [
    "#Q8. Write a Python program that takes in two dates as input (in the format YYYY-MM-DD) and calculates the difference between them in days, hours, and minutes using Pandas time delta. \n",
    "#The program should prompt the user to enter the dates and display the result.\n",
    "#Ans.\n",
    "import pandas as pd\n",
    "\n",
    "# Prompt the user to enter the first date\n",
    "date1_str = input(\"Enter the first date (YYYY-MM-DD): \")\n",
    "date1 = pd.to_datetime(date1_str)\n",
    "\n",
    "# Prompt the user to enter the second date\n",
    "date2_str = input(\"Enter the second date (YYYY-MM-DD): \")\n",
    "date2 = pd.to_datetime(date2_str)\n",
    "\n",
    "# Calculate the difference between the two dates\n",
    "diff = date2 - date1\n",
    "\n",
    "# Print the result\n",
    "print(\"The difference between\", date1_str, \"and\", date2_str, \"is:\")\n",
    "print(diff.days, \"days\")\n",
    "print(diff.seconds // 3600, \"hours\")\n",
    "print((diff.seconds // 60) % 60, \"minutes\")"
   ]
  },
  {
   "cell_type": "code",
   "execution_count": null,
   "id": "6ba07a5d-424f-47cc-9853-977668488bcd",
   "metadata": {},
   "outputs": [],
   "source": [
    "#Q9. Write a Python program that reads a CSV file containing categorical data and converts a specified column to a categorical data type. \n",
    "#The program should prompt the user to enter the file path, column name, and category order, and then display the sorted data.\n",
    "#Ans.\n",
    "import pandas as pd\n",
    "\n",
    "# Prompt the user to enter the file path\n",
    "file_path = input(\"Enter the file path: \")\n",
    "\n",
    "# Read the CSV file into a Pandas DataFrame\n",
    "df = pd.read_csv(file_path)\n",
    "\n",
    "# Prompt the user to enter the column name and category order\n",
    "col_name = input(\"Enter the column name to convert to categorical data: \")\n",
    "cat_order = input(\"Enter the category order (comma-separated): \").split(\",\")\n",
    "\n",
    "# Convert the specified column to categorical data type with the specified category order\n",
    "df[col_name] = pd.Categorical(df[col_name], categories=cat_order, ordered=True)\n",
    "\n",
    "# Sort the DataFrame by the specified column\n",
    "df = df.sort_values(col_name)\n",
    "\n",
    "# Display the sorted data\n",
    "print(df)"
   ]
  },
  {
   "cell_type": "code",
   "execution_count": null,
   "id": "9d6ac36a-11b3-4dcc-b98d-42cae67e7fa5",
   "metadata": {},
   "outputs": [],
   "source": [
    "#Q10. Write a Python program that reads a CSV file containing sales data for different products and visualizes the data using a stacked bar chart to show the sales of each product category over time. \n",
    "#Theprogram should prompt the user to enter the file path and display the chart.\n",
    "#Ans.\n",
    "import pandas as pd\n",
    "import matplotlib.pyplot as plt\n",
    "\n",
    "# Prompt user for file path\n",
    "file_path = input(\"Enter the file path: \")\n",
    "\n",
    "# Read CSV file into a pandas dataframe\n",
    "sales_df = pd.read_csv(file_path)\n",
    "\n",
    "# Convert date column to datetime format\n",
    "sales_df['date'] = pd.to_datetime(sales_df['date'])\n",
    "\n",
    "# Group sales by product category and date\n",
    "grouped_sales = sales_df.groupby(['category', 'date'])['sales'].sum().unstack()\n",
    "\n",
    "# Create stacked bar chart\n",
    "grouped_sales.plot(kind='bar', stacked=True)\n",
    "\n",
    "# Set chart title and axis labels\n",
    "plt.title('Sales by Product Category over Time')\n",
    "plt.xlabel('Date')\n",
    "plt.ylabel('Sales')\n",
    "\n",
    "# Display chart\n",
    "plt.show()"
   ]
  },
  {
   "cell_type": "code",
   "execution_count": null,
   "id": "8c4d2bf5-95ca-4b3c-a1ea-815b7d2f136b",
   "metadata": {},
   "outputs": [],
   "source": [
    "pip install tabulate\n"
   ]
  }
 ],
 "metadata": {
  "kernelspec": {
   "display_name": "Python 3 (ipykernel)",
   "language": "python",
   "name": "python3"
  },
  "language_info": {
   "codemirror_mode": {
    "name": "ipython",
    "version": 3
   },
   "file_extension": ".py",
   "mimetype": "text/x-python",
   "name": "python",
   "nbconvert_exporter": "python",
   "pygments_lexer": "ipython3",
   "version": "3.10.8"
  }
 },
 "nbformat": 4,
 "nbformat_minor": 5
}
