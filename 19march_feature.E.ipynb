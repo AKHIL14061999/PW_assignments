{
 "cells": [
  {
   "cell_type": "markdown",
   "id": "46416750-2afa-4d11-bef2-5d9dc886e94a",
   "metadata": {},
   "source": [
    "#Q1. What is Min-Max scaling, and how is it used in data preprocessing? Provide an example to illustrate its application.\n",
    "#Ans.\n",
    "#Min-Max scaling is a data preprocessing technique that rescales the features of a dataset so that they have a new range between 0 and 1. \n",
    "#This is achieved by subtracting the minimum value of each feature from all its values and then dividing by the range of the feature, which is the difference between the maximum and minimum values.\n",
    "X_scaled = (X - X_min) / (X_max - X_min)"
   ]
  },
  {
   "cell_type": "markdown",
   "id": "5e56b38d-eab1-4459-b4f2-ffb7749e31e4",
   "metadata": {},
   "source": [
    "#Q2. What is the Unit Vector technique in feature scaling, and how does it differ from Min-Max scaling? Provide an example to illustrate its application.\n",
    "#Ans.\n",
    "#The Unit Vector technique in feature scaling, also known as normalization, is a preprocessing technique that rescales the features of a dataset so that each feature has a unit norm. \n",
    "#This means that the magnitude of each feature vector is 1. It is achieved by dividing each feature value by the Euclidean norm of the feature vector, which is the square root of the sum of the squares of all the feature values. \n",
    "#The formula for Unit Vector scaling is:\n",
    "X_norm = X / ||X||"
   ]
  },
  {
   "cell_type": "markdown",
   "id": "f0d28043-3c7e-459e-a505-0246a8dccfd1",
   "metadata": {},
   "source": [
    "#Q3. What is PCA (Principle Component Analysis), and how is it used in dimensionality reduction? Provide an example to illustrate its application.\n",
    "#Ans.\n",
    "#PCA, or Principal Component Analysis, is a statistical method used for reducing the dimensionality of a dataset while retaining most of the important information.\n",
    "#PCA is commonly used in data analysis and machine learning for reducing the dimensionality of large datasets, as it can help to simplify complex data by identifying underlying patterns and relationships among variables. \n",
    "#An example of the application of PCA would be in analyzing a dataset of images, where each image contains a large number of pixels. \n",
    "#Using PCA, we could reduce the number of variables by identifying the principal components that capture the most important patterns in the data. \n"
   ]
  },
  {
   "cell_type": "markdown",
   "id": "721e96d5-e8a6-4046-adfa-213abc2ee9bd",
   "metadata": {},
   "source": [
    "#Q4. What is the relationship between PCA and Feature Extraction, and how can PCA be used for Feature Extraction? Provide an example to illustrate this concept.\n",
    "#Ans.\n",
    "#PCA and feature extraction are related in that PCA can be used as a feature extraction technique. \n",
    "#Feature extraction is the process of identifying important features or patterns in a dataset and representing them as a smaller set of variables or features. \n",
    "#This can help to reduce the dimensionality of the dataset, making it easier to analyze and process.\n",
    "\n",
    "#For example, consider a dataset of images where each image contains a large number of pixels. \n",
    "#We can use PCA to extract the most important features from the images, such as edges, shapes, and textures, and represent each image using a smaller set of principal components. \n",
    "#These principal components can then be used as new features for image classification or clustering tasks.\n"
   ]
  },
  {
   "cell_type": "markdown",
   "id": "f99947dc-23d5-49d1-82d8-cddde8b4cd7a",
   "metadata": {},
   "source": [
    "#Q5. You are working on a project to build a recommendation system for a food delivery service. The dataset contains features such as price, rating, and delivery time. Explain how you would use Min-Max scaling to preprocess the data.\n",
    "#Ans.\n",
    "#Min-Max scaling is a commonly used normalization technique in data preprocessing, which scales the values of a numerical variable to a fixed range, typically between 0 and 1. \n",
    "#To apply Min-Max scaling to a variable, we first find the minimum and maximum values of that variable in the dataset. \n",
    "#Then, we transform the values of the variable using the following formula:\n",
    "scaled_value = (value - min_value) / (max_value - min_value)\n"
   ]
  },
  {
   "cell_type": "code",
   "execution_count": 4,
   "id": "419df428-be5b-4284-b060-35a13bc33e91",
   "metadata": {},
   "outputs": [],
   "source": [
    "#Q6. You are working on a project to build a model to predict stock prices. The dataset contains many features, such as company financial data and market trends. Explain how you would use PCA to reduce the dimensionality of the dataset.\n",
    "#Ans.\n",
    "#When working on a project to predict stock prices, it is common to have a dataset with many features, including company financial data, market trends, and other relevant information. \n",
    "#However, having too many features can lead to overfitting and can make it difficult to train a model that generalizes well to new data. \n",
    "#To address this issue, we can use PCA to reduce the dimensionality of the dataset.\n"
   ]
  },
  {
   "cell_type": "code",
   "execution_count": 5,
   "id": "4fb4bff4-f42d-43a3-b683-bccecbf2fc48",
   "metadata": {},
   "outputs": [
    {
     "ename": "SyntaxError",
     "evalue": "invalid syntax (2050968466.py, line 7)",
     "output_type": "error",
     "traceback": [
      "\u001b[0;36m  Cell \u001b[0;32mIn[5], line 7\u001b[0;36m\u001b[0m\n\u001b[0;31m    For the value 1: scaled_value = 2 * (1 - 1) / (20 - 1) - 1 = -1\u001b[0m\n\u001b[0m        ^\u001b[0m\n\u001b[0;31mSyntaxError\u001b[0m\u001b[0;31m:\u001b[0m invalid syntax\n"
     ]
    }
   ],
   "source": [
    "#Q7. For a dataset containing the following values: [1, 5, 10, 15, 20], perform Min-Max scaling to transform the values to a range of -1 to 1.\n",
    "#Ans.\n",
    "#To perform Min-Max scaling on the dataset [1, 5, 10, 15, 20] and transform the values to a range of -1 to 1, we need to use the following formula:\n",
    "scaled_value = 2 * (value - min_value) / (max_value - min_value) - 1\n",
    "\n",
    "#In this case, the minimum value is 1 and the maximum value is 20. So we can apply the formula to each value in the dataset as follows:\n",
    "For the value 1: scaled_value = 2 * (1 - 1) / (20 - 1) - 1 = -1\n",
    "For the value 5: scaled_value = 2 * (5 - 1) / (20 - 1) - 1 = -0.6\n",
    "For the value 10: scaled_value = 2 * (10 - 1) / (20 - 1) - 1 = -0.2\n",
    "For the value 15: scaled_value = 2 * (15 - 1) / (20 - 1) - 1 = 0.2\n",
    "For the value 20: scaled_value = 2 * (20 - 1) / (20 - 1) - 1 = 1\n",
    "#Therefore, the Min-Max scaled dataset with values transformed to the range of -1 to 1 is [-1, -0.6, -0.2, 0.2, 1].\n"
   ]
  },
  {
   "cell_type": "code",
   "execution_count": 6,
   "id": "c856557d-9234-4819-8114-ea285d455797",
   "metadata": {},
   "outputs": [
    {
     "ename": "NameError",
     "evalue": "name 'data' is not defined",
     "output_type": "error",
     "traceback": [
      "\u001b[0;31m---------------------------------------------------------------------------\u001b[0m",
      "\u001b[0;31mNameError\u001b[0m                                 Traceback (most recent call last)",
      "Cell \u001b[0;32mIn[6], line 9\u001b[0m\n\u001b[1;32m      7\u001b[0m \u001b[38;5;66;03m# create PCA object and fit to data\u001b[39;00m\n\u001b[1;32m      8\u001b[0m pca \u001b[38;5;241m=\u001b[39m PCA()\n\u001b[0;32m----> 9\u001b[0m pca\u001b[38;5;241m.\u001b[39mfit(\u001b[43mdata\u001b[49m)\n\u001b[1;32m     11\u001b[0m \u001b[38;5;66;03m# plot explained variance ratios\u001b[39;00m\n\u001b[1;32m     12\u001b[0m \u001b[38;5;28;01mimport\u001b[39;00m \u001b[38;5;21;01mmatplotlib\u001b[39;00m\u001b[38;5;21;01m.\u001b[39;00m\u001b[38;5;21;01mpyplot\u001b[39;00m \u001b[38;5;28;01mas\u001b[39;00m \u001b[38;5;21;01mplt\u001b[39;00m\n",
      "\u001b[0;31mNameError\u001b[0m: name 'data' is not defined"
     ]
    }
   ],
   "source": [
    "#Q8. For a dataset containing the following features: [height, weight, age, gender, blood pressure], perform Feature Extraction using PCA. How many principal components would you choose to retain, and why?\n",
    "#Ans.\n",
    "#Performing feature extraction using PCA involves reducing the number of features in a dataset by identifying a smaller number of principal components that capture most of the variance in the original features.\n",
    "\n",
    "from sklearn.decomposition import PCA\n",
    "\n",
    "# create PCA object and fit to data\n",
    "pca = PCA()\n",
    "pca.fit(data)\n",
    "\n",
    "# plot explained variance ratios\n",
    "import matplotlib.pyplot as plt\n",
    "plt.plot(range(1, len(pca.explained_variance_ratio_)+1), pca.explained_variance_ratio_)\n",
    "plt.xlabel('Principal Component')\n",
    "plt.ylabel('Explained Variance Ratio')\n",
    "plt.show()"
   ]
  },
  {
   "cell_type": "code",
   "execution_count": null,
   "id": "0bd0ae9c-7339-436b-a005-1bceb64fc95f",
   "metadata": {},
   "outputs": [],
   "source": []
  },
  {
   "cell_type": "code",
   "execution_count": null,
   "id": "6b3c72c2-c3e5-4af5-a6a5-a1fc0253fe25",
   "metadata": {},
   "outputs": [],
   "source": []
  }
 ],
 "metadata": {
  "kernelspec": {
   "display_name": "Python 3 (ipykernel)",
   "language": "python",
   "name": "python3"
  },
  "language_info": {
   "codemirror_mode": {
    "name": "ipython",
    "version": 3
   },
   "file_extension": ".py",
   "mimetype": "text/x-python",
   "name": "python",
   "nbconvert_exporter": "python",
   "pygments_lexer": "ipython3",
   "version": "3.10.8"
  }
 },
 "nbformat": 4,
 "nbformat_minor": 5
}
