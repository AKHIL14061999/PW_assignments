{
 "cells": [
  {
   "cell_type": "code",
   "execution_count": 1,
   "id": "53d33d58-8e0f-4b54-a8c8-3d8f0ecfdd17",
   "metadata": {},
   "outputs": [],
   "source": [
    "#Q1: What are the Probability Mass Function (PMF) and Probability Density Function (PDF)? Explain with an example.\n",
    "#Ans.\n",
    "#PMF and PDF are both mathematical functions used to describe the probability distribution of random variables. \n",
    "#PMF is used for discrete random variables and gives the probability that a random variable takes a specific value, while PDF is used for continuous random variables and gives the probability density of a random variable taking a specific value.\n"
   ]
  },
  {
   "cell_type": "code",
   "execution_count": 2,
   "id": "fed58ccd-4f3d-402f-8c6e-ece875596778",
   "metadata": {},
   "outputs": [],
   "source": [
    "#Q2: What is Cumulative Density Function (CDF)? Explain with an example. Why CDF is used?\n",
    "#Ans.\n",
    "#The Cumulative Density Function (CDF) is a mathematical function that gives the probability that a random variable takes on a value less than or equal to a specific value. \n",
    "#It is useful for calculating probabilities, determining percentiles and quartiles, and testing hypotheses about the distribution of a random variable.\n"
   ]
  },
  {
   "cell_type": "code",
   "execution_count": null,
   "id": "9adbbf85-9051-4f2b-9e07-f459102e6fef",
   "metadata": {},
   "outputs": [],
   "source": [
    "#Q3: What are some examples of situations where the normal distribution might be used as a model? Explain how the parameters of the normal distribution relate to the shape of the distribution.\n",
    "#Ans.\n",
    "#The normal distribution is a widely used probability distribution in statistics, and is often used to model real-world phenomena in various fields. \n",
    "#Some examples of situations where the normal distribution might be used as a model include:\n",
    "\n",
    "#Heights and weights of people in a population.\n",
    "#Test scores and IQ scores.\n",
    "#Errors in measurements and experimental data.\n",
    "#Economic and financial data, such as stock prices and interest rates."
   ]
  },
  {
   "cell_type": "code",
   "execution_count": null,
   "id": "7fe7ba41-1cd2-4423-ab2f-dbe73ae8a568",
   "metadata": {},
   "outputs": [],
   "source": [
    "#Q4: Explain the importance of Normal Distribution. Give a few real-life examples of Normal Distribution.\n",
    "#Ans.\n",
    "#The normal distribution is an important statistical tool because it has many mathematical properties that make it easier to work with compared to other distributions. \n",
    "#These properties include its symmetry, its well-defined mean and standard deviation, and its well-known mathematical formula.\n",
    "\n",
    "#Some real-life examples of normal distribution include:\n",
    "#Heights and weights of people in a population.\n",
    "#Test scores and IQ scores.\n",
    "#Errors in measurements and experimental data.\n",
    "#Economic and financial data, such as stock prices and interest rates."
   ]
  },
  {
   "cell_type": "code",
   "execution_count": 3,
   "id": "010b640d-e8af-423b-acea-703a85ea1065",
   "metadata": {},
   "outputs": [],
   "source": [
    "#Q5: What is Bernaulli Distribution? Give an Example. What is the difference between Bernoulli Distribution and Binomial Distribution?\n",
    "#Ans.\n",
    "#The Bernoulli distribution is a discrete probability distribution that models the probability of a single binary event, where the outcome is either success (with probability p) or failure (with probability 1-p).\n",
    "#An example of Bernoulli distribution is the probability of flipping a fair coin and getting heads (assuming heads is defined as success). \n",
    "#In this case, the probability of success (getting heads) is p=0.5, and the probability of failure (getting tails) is 1-p=0.5.\n",
    "#The main difference between Bernoulli distribution and binomial distribution is that Bernoulli distribution models a single binary event, while the binomial distribution models the probability of a certain number of successes in a fixed number of independent binary events.\n"
   ]
  },
  {
   "cell_type": "code",
   "execution_count": null,
   "id": "5aabffa7-6e56-496a-887c-e336d209ad3b",
   "metadata": {},
   "outputs": [],
   "source": []
  },
  {
   "cell_type": "code",
   "execution_count": null,
   "id": "ebb34147-765a-4ffb-83e4-18acc5828e71",
   "metadata": {},
   "outputs": [],
   "source": []
  },
  {
   "cell_type": "code",
   "execution_count": null,
   "id": "61cf5103-b5d6-43db-be59-4f5b82a43bc2",
   "metadata": {},
   "outputs": [],
   "source": []
  }
 ],
 "metadata": {
  "kernelspec": {
   "display_name": "Python 3 (ipykernel)",
   "language": "python",
   "name": "python3"
  },
  "language_info": {
   "codemirror_mode": {
    "name": "ipython",
    "version": 3
   },
   "file_extension": ".py",
   "mimetype": "text/x-python",
   "name": "python",
   "nbconvert_exporter": "python",
   "pygments_lexer": "ipython3",
   "version": "3.10.8"
  }
 },
 "nbformat": 4,
 "nbformat_minor": 5
}
