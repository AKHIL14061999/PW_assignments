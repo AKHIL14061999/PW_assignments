{
 "cells": [
  {
   "cell_type": "code",
   "execution_count": 1,
   "id": "292a91cf-9236-4931-8c22-af6e097b1ce8",
   "metadata": {},
   "outputs": [],
   "source": [
    "#Q1. What is the Probability density function?\n",
    "#Ans.\n",
    "#The Probability density function (PDF) is a mathematical function used to describe the likelihood of observing a continuous random variable within a given range of values.\n"
   ]
  },
  {
   "cell_type": "code",
   "execution_count": null,
   "id": "25caa936-ce27-460b-a548-bb5ad1924e6f",
   "metadata": {},
   "outputs": [],
   "source": [
    "#Q2. What are the types of Probability distribution?\n",
    "#Ans.\n",
    "#There are many types of probability distributions, but some of the most commonly used ones are:\n",
    "#Bernoulli Distribution: A discrete probability distribution that describes the likelihood of obtaining a single success or failure in a single trial.\n",
    "#Binomial distribution: Used to model the probability of a certain number of successes in a fixed number of independent trials.\n",
    "#Poisson distribution: Used to model the probability of a certain number of events occurring in a fixed interval of time or space.\n",
    "##Normal distribution: A continuous distribution that is symmetric and bell-shaped, commonly used to model data in natural and social sciences.\n"
   ]
  },
  {
   "cell_type": "code",
   "execution_count": null,
   "id": "f80ed299-ba4e-46e6-a02d-2c888eb63523",
   "metadata": {},
   "outputs": [],
   "source": [
    "#Q3. Write a Python function to calculate the probability density function of a normal distribution with given mean and standard deviation at a given point.\n",
    "#Ans.\n",
    "import math\n",
    "\n",
    "def normal_pdf(x, mu, sigma):\n",
    "    #Calculates the PDF of a normal distribution at a given point x, with mean mu and standard deviation sigma.\n",
    "    coeff = 1 / (sigma * math.sqrt(2 * math.pi))\n",
    "    exponent = -((x - mu) ** 2) / (2 * (sigma ** 2))\n",
    "    return coeff * math.exp(exponent)\n",
    "\n",
    "result = normal_pdf(2, 0, 1)\n",
    "print(\"The Result is:\", result)"
   ]
  },
  {
   "cell_type": "code",
   "execution_count": null,
   "id": "5073887e-136e-49c2-9125-bc09c888f17f",
   "metadata": {},
   "outputs": [],
   "source": [
    "#Q4. What are the properties of Binomial distribution? Give two examples of events where binomial distribution can be applied.\n",
    "#Ans.\n",
    "#The properties of a binomial distribution are:\n",
    "#The number of trials is fixed.\n",
    "#Each trial is independent.\n",
    "#There are only two possible outcomes for each trial (success or failure).\n",
    "#The probability of success is constant for each trial.\n",
    "#The trials are identical.\n",
    "\n",
    "#Two examples of events where binomial distribution can be applied are:\n",
    "#A company is launching a new product and wants to determine the likelihood of making a sale. \n",
    "#They randomly select 100 potential customers and record whether each customer made a purchase or not. \n",
    "\n",
    "#An epidemiologist is studying the spread of a disease within a population. \n",
    "#They randomly select 500 people and test each person for the disease. "
   ]
  },
  {
   "cell_type": "code",
   "execution_count": null,
   "id": "0f964338-e944-4a0c-90e1-981be82cf73b",
   "metadata": {},
   "outputs": [],
   "source": [
    "#Q5. Generate a random sample of size 1000 from a binomial distribution with probability of success 0.4 and plot a histogram of the results using matplotlib.\n",
    "#Ans.\n",
    "import numpy as np\n",
    "import matplotlib.pyplot as plt\n",
    "\n",
    "# Generate random sample of size 1000 from a binomial distribution\n",
    "n = 1000\n",
    "p = 0.4\n",
    "sample = np.random.binomial(n, p, size=1000)\n",
    "\n",
    "# Plot histogram of the results\n",
    "plt.hist(sample, bins=20)\n",
    "plt.title(\"Histogram of Random Sample from Binomial Distribution\")\n",
    "plt.xlabel(\"Number of Successes\")\n",
    "plt.ylabel(\"Frequency\")\n",
    "plt.show()"
   ]
  },
  {
   "cell_type": "code",
   "execution_count": null,
   "id": "7ce95865-2319-452c-9be9-79e0519d5209",
   "metadata": {},
   "outputs": [],
   "source": []
  }
 ],
 "metadata": {
  "kernelspec": {
   "display_name": "Python 3 (ipykernel)",
   "language": "python",
   "name": "python3"
  },
  "language_info": {
   "codemirror_mode": {
    "name": "ipython",
    "version": 3
   },
   "file_extension": ".py",
   "mimetype": "text/x-python",
   "name": "python",
   "nbconvert_exporter": "python",
   "pygments_lexer": "ipython3",
   "version": "3.10.8"
  }
 },
 "nbformat": 4,
 "nbformat_minor": 5
}
