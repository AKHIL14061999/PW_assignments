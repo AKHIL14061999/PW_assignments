{
 "cells": [
  {
   "cell_type": "markdown",
   "id": "4938e35d-4b69-42e2-ae08-3bcdb62513d1",
   "metadata": {},
   "source": [
    "What are the three measures of central tendency?\n"
   ]
  },
  {
   "cell_type": "markdown",
   "id": "0bb1e10c-3088-4131-b93c-06f2608ff6b8",
   "metadata": {},
   "source": [
    "There are three measures of central tendency:\n",
    "\n",
    "Mean\n",
    "Median\n",
    "Mode"
   ]
  },
  {
   "cell_type": "markdown",
   "id": "7fb2d6e1-4749-4672-8fc2-8287c3a4893e",
   "metadata": {},
   "source": [
    "Q-2 What is the difference between the mean, median, and mode? How are they used to measure the central tendency of a dataset?\n",
    "Ans....Mean basically gives us the center part or average value of a distribution of a data.\n",
    "Median hepls us to find out center/middle value of a dataset.\n",
    "Mode gives us the most frequent element of a dataset.\n",
    "And this the major difference between mean, median, mode.\n",
    "\n",
    "This is also the usecase of them as well."
   ]
  },
  {
   "cell_type": "markdown",
   "id": "05c1ccf7-1f8d-4e8a-93a5-463b46f656a5",
   "metadata": {},
   "source": [
    "Q-3 Measure the three measures of central tendency for the given height data:\n",
    "[178,177,176,177,178.2,178,175,179,180,175,178.9,176.2,177,172.5,178,176.5]"
   ]
  },
  {
   "cell_type": "code",
   "execution_count": 1,
   "id": "1f2a1bb2-53f8-47c4-b879-a5e9ee0575df",
   "metadata": {},
   "outputs": [],
   "source": [
    "import numpy as np\n",
    "import scipy.stats as stat\n"
   ]
  },
  {
   "cell_type": "code",
   "execution_count": 2,
   "id": "60b4f27b-9950-4793-87de-2f376dd88a53",
   "metadata": {},
   "outputs": [
    {
     "name": "stdout",
     "output_type": "stream",
     "text": [
      "Mean of data: 177.01875\n",
      "Median of data: 177.0\n",
      "Mode of data: ModeResult(mode=array([177.]), count=array([3]))\n"
     ]
    },
    {
     "name": "stderr",
     "output_type": "stream",
     "text": [
      "/tmp/ipykernel_3494/808236908.py:6: FutureWarning: Unlike other reduction functions (e.g. `skew`, `kurtosis`), the default behavior of `mode` typically preserves the axis it acts along. In SciPy 1.11.0, this behavior will change: the default value of `keepdims` will become False, the `axis` over which the statistic is taken will be eliminated, and the value None will no longer be accepted. Set `keepdims` to True or False to avoid this warning.\n",
      "  print(\"Mode of data: {}\".format(stat.mode(data)))\n"
     ]
    }
   ],
   "source": [
    "data = [178,177,176,177,178.2,178,175,179,180,175,178.9,176.2,177,172.5,178,176.5]\n",
    "print(\"Mean of data: {}\".format(np.mean(data)))\n",
    "\n",
    "print(\"Median of data: {}\".format(np.median(data)))\n",
    "\n",
    "print(\"Mode of data: {}\".format(stat.mode(data)))"
   ]
  },
  {
   "cell_type": "markdown",
   "id": "c8688c9a-415e-4b36-911b-c34b3dc875dd",
   "metadata": {},
   "source": [
    "Q-4 Find the standard deviation for the given data:\n",
    "[178,177,176,177,178.2,178,175,179,180,175,178.9,176.2,177,172.5,178,176.5]"
   ]
  },
  {
   "cell_type": "code",
   "execution_count": 4,
   "id": "f35943ca-c0fa-4fba-ad68-d08a59693161",
   "metadata": {},
   "outputs": [
    {
     "name": "stdout",
     "output_type": "stream",
     "text": [
      "standard deviation of data: 1.7885814036548633\n"
     ]
    }
   ],
   "source": [
    "data = [178,177,176,177,178.2,178,175,179,180,175,178.9,176.2,177,172.5,178,176.5]\n",
    "\n",
    "print(\"standard deviation of data: {}\".format(np.std(data)))"
   ]
  },
  {
   "cell_type": "markdown",
   "id": "d0b7bc03-bfcb-4fdf-8c4d-0b7dbf597dff",
   "metadata": {},
   "source": [
    "Q-5 How are measures of dispersion such as range, variance, and standard deviation used to describe the spread of a dataset? Provide an example.\n",
    "(A)range: it gives us a smallest interval which contains all the elements of a dataset by subtracting highest and the lowest element. Since it depends on only two element, it more useful in case of small data set.\n",
    "(B)variance: it gives us the value through which we will be able to determine that how our data is spread around the mean. if variance is low then whole dataset is tightly clustered around the mean.\n",
    "(C)standard deviation: it tells us that how many std our particular data point is away from the mean."
   ]
  },
  {
   "cell_type": "code",
   "execution_count": 5,
   "id": "eecf9e9b-c119-4985-b2fa-75913e21f5fe",
   "metadata": {},
   "outputs": [
    {
     "data": {
      "text/plain": [
       "15.5475"
      ]
     },
     "execution_count": 5,
     "metadata": {},
     "output_type": "execute_result"
    }
   ],
   "source": [
    "data = [2,3,3,4,4,4,4,4,6,7,8,9,9,9,10,10,11,11,14,17]\n",
    "np.var(data)"
   ]
  },
  {
   "cell_type": "code",
   "execution_count": null,
   "id": "02eefdc4-4b17-41a2-a907-6c8166e45209",
   "metadata": {},
   "outputs": [],
   "source": [
    "np.std(data)\n"
   ]
  },
  {
   "cell_type": "code",
   "execution_count": null,
   "id": "040b273f-7f75-4854-9088-9dcc8d262da1",
   "metadata": {},
   "outputs": [],
   "source": [
    "np.max(data)-np.min(data)\n"
   ]
  },
  {
   "cell_type": "code",
   "execution_count": null,
   "id": "f9a82050-f2b4-4195-8e60-d6c3e696c080",
   "metadata": {},
   "outputs": [],
   "source": [
    "A = {2,3,4,5,6,7}\n",
    "B = {0,2,6,8,10}\n",
    "\n",
    "print(\"Intersection of A and B is {}\".format(A.intersection(B)))\n",
    "print(\"Union of A and B is {}\".format(A.union(B)))"
   ]
  },
  {
   "cell_type": "markdown",
   "id": "5ac3a112-fbad-42a2-850b-eaef63dbdfe7",
   "metadata": {},
   "source": [
    "Q-8 What do you understand about skewness in data?\n",
    "Through skewness we will be able to undestand about the behaviour of our distribution. (Also the shape of it). we will also be able to understand that how much area of distribution falls on the left and right hand side of the mean.\n",
    "\n",
    "Q-9 If a data is right skewed then what will be the position of median with respect to mean?\n",
    "median lies above the mean (Median > Mean)\n",
    "\n",
    "Q-10 Explain the difference between covariance and correlation. How are these measures used in statistical analysis?\n",
    "Both are basically used to determine the relationship between different attributes of a dataset.\n",
    "\n",
    "covariance only gives us the idea about +ve and -ve signs whereas correlation gives us the idea about value as well as we can identify whether relationship is perfect or not."
   ]
  },
  {
   "cell_type": "markdown",
   "id": "b9f943eb-9029-46a1-973a-2aa8fc0a40d6",
   "metadata": {},
   "source": [
    "Q-11 What is the formula for calculating the sample mean? Provide an example calculation for a dataset.\n",
    "Formula for calculating sample mean:\n",
    "\n",
    "** sum of all (Xi) / total number of data point **"
   ]
  },
  {
   "cell_type": "code",
   "execution_count": 6,
   "id": "770f8cb0-4f7d-4e79-9014-dbbb4525002c",
   "metadata": {},
   "outputs": [
    {
     "name": "stdout",
     "output_type": "stream",
     "text": [
      "Sample mean is : 21.8\n"
     ]
    }
   ],
   "source": [
    "data = [10,23,1,5,7,86,5,3,64,14]\n",
    "\n",
    "mean = sum(data) / len(data)\n",
    "print(\"Sample mean is : {}\".format(mean))"
   ]
  },
  {
   "cell_type": "markdown",
   "id": "84bf6551-0db8-4f8a-a029-83fa46425b8a",
   "metadata": {},
   "source": [
    "Q-12 For a normal distribution data what is the relationship between its measure of central tendency?\n",
    "Ans-For a normal distribution data:\n",
    "\n",
    "** mean = median = mode **\n",
    "\n",
    "Which means all of this will give the same answer.\n",
    "Q-13 How is covariance different from correlation?\n",
    "Ans-Covariance only gives us the idea about +ve and -ve signs whereas correlation gives us the idea about value as well as we can identify whether relationship is perfect or not.\n",
    "Covariance and Correlation are two terms which are exactly opposite to each other, they both are used in statistics and regression analysis, covariance shows us how the two variables vary from each other whereas correlation shows us the relationship between the two variables and how are they related."
   ]
  },
  {
   "cell_type": "markdown",
   "id": "a288fc3c-7222-4d0c-87ce-833a5c664899",
   "metadata": {},
   "source": [
    "Q-14 How do outliers affect measures of central tendency and dispersion? Provide an example.\n",
    "Ans-if outliers are present in data set then it has an adverse effect on measurement of central tendency and dispersion. outliers always try to attract mean towards them and also leads to incorrect result of std."
   ]
  },
  {
   "cell_type": "code",
   "execution_count": 8,
   "id": "2d7c711d-e7e4-494a-a1ac-d4a8732f08c7",
   "metadata": {},
   "outputs": [
    {
     "name": "stdout",
     "output_type": "stream",
     "text": [
      "Mean is: 9.3\n",
      "Standard deviation is: 5.710516614107694\n"
     ]
    }
   ],
   "source": [
    "import numpy as np\n",
    "data = [10,13,1,5,7,19,5,3,16,14]\n",
    "\n",
    "print(\"Mean is: {}\".format(np.mean(data)))\n",
    "print(\"Standard deviation is: {}\".format(np.std(data)))"
   ]
  },
  {
   "cell_type": "code",
   "execution_count": 9,
   "id": "8fef3964-2208-4196-b8ee-ba3c9daef972",
   "metadata": {},
   "outputs": [
    {
     "name": "stdout",
     "output_type": "stream",
     "text": [
      "Mean is: 17.545454545454547\n",
      "Standard deviation is: 26.63682903720007\n"
     ]
    }
   ],
   "source": [
    "# Let's add an outlier in data\n",
    "data = [10,13,1,5,7,19,5,3,16,14,100]\n",
    "\n",
    "print(\"Mean is: {}\".format(np.mean(data)))\n",
    "print(\"Standard deviation is: {}\".format(np.std(data)))"
   ]
  },
  {
   "cell_type": "code",
   "execution_count": null,
   "id": "bb9f9c03-70fe-472c-b079-0003feaf00ba",
   "metadata": {},
   "outputs": [],
   "source": []
  }
 ],
 "metadata": {
  "kernelspec": {
   "display_name": "Python 3 (ipykernel)",
   "language": "python",
   "name": "python3"
  },
  "language_info": {
   "codemirror_mode": {
    "name": "ipython",
    "version": 3
   },
   "file_extension": ".py",
   "mimetype": "text/x-python",
   "name": "python",
   "nbconvert_exporter": "python",
   "pygments_lexer": "ipython3",
   "version": "3.10.8"
  }
 },
 "nbformat": 4,
 "nbformat_minor": 5
}
