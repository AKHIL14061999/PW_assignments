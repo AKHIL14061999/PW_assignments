{
 "cells": [
  {
   "cell_type": "code",
   "execution_count": 1,
   "id": "7be76a01-9991-4919-af7b-a70ee16dfcb8",
   "metadata": {},
   "outputs": [
    {
     "name": "stdout",
     "output_type": "stream",
     "text": [
      "95% Confidence Interval: (49.02, 50.98)\n"
     ]
    }
   ],
   "source": [
    "#Q1. Calculate the 95% confidence interval for a sample of data with a mean of 50 and a standard deviation of 5 using Python. Interpret the results.\n",
    "#Ans.\n",
    "import scipy.stats as stats\n",
    "\n",
    "sample_mean = 50\n",
    "sample_std = 5\n",
    "n = 100  # sample size\n",
    "\n",
    "# Calculate the standard error of the mean\n",
    "standard_error = sample_std / (n ** 0.5)\n",
    "\n",
    "# Calculate the 95% confidence interval\n",
    "lower_ci, upper_ci = stats.norm.interval(0.95, loc=sample_mean, scale=standard_error)\n",
    "\n",
    "print(\"95% Confidence Interval: ({:.2f}, {:.2f})\".format(lower_ci, upper_ci))"
   ]
  },
  {
   "cell_type": "code",
   "execution_count": 2,
   "id": "dc9822b4-4b73-48d8-8287-6841a861c06b",
   "metadata": {},
   "outputs": [
    {
     "name": "stdout",
     "output_type": "stream",
     "text": [
      "The chi-square test statistic (0.60) does not exceed the critical value (11.07), so we fail to reject the null hypothesis.\n"
     ]
    }
   ],
   "source": [
    "#Q2. Conduct a chi-square goodness of fit test to determine if the distribution of colors of M&Ms in a bag matches the expected distribution of 20% blue, 20% orange, 20% green, 10% yellow, 10% red, and 20% brown. Use Python to perform the test with a significance level of 0.05.\n",
    "#Ans.\n",
    "import numpy as np\n",
    "import scipy.stats as stats\n",
    "\n",
    "# Observed frequencies\n",
    "observed_freq = np.array([18, 22, 20, 9, 11, 20])\n",
    "\n",
    "# Expected frequencies\n",
    "expected_freq = np.array([20, 20, 20, 10, 10, 20])\n",
    "\n",
    "# Calculate the chi-square test statistic\n",
    "chi2_statistic, p_value = stats.chisquare(observed_freq, expected_freq)\n",
    "\n",
    "# Calculate the degrees of freedom\n",
    "df = len(observed_freq) - 1\n",
    "\n",
    "# Calculate the critical value at a significance level of 0.05\n",
    "critical_value = stats.chi2.ppf(0.95, df)\n",
    "\n",
    "# Compare the chi-square statistic with the critical value and interpret the results\n",
    "if chi2_statistic > critical_value:\n",
    "    print(\"The chi-square test statistic ({:.2f}) exceeds the critical value ({:.2f}), so we reject the null hypothesis.\".format(chi2_statistic, critical_value))\n",
    "else:\n",
    "    print(\"The chi-square test statistic ({:.2f}) does not exceed the critical value ({:.2f}), so we fail to reject the null hypothesis.\".format(chi2_statistic, critical_value))\n"
   ]
  },
  {
   "cell_type": "code",
   "execution_count": 3,
   "id": "1ef18d0e-3743-49a2-bec7-395ce32fcd35",
   "metadata": {},
   "outputs": [
    {
     "name": "stdout",
     "output_type": "stream",
     "text": [
      "Chi-square statistic: 8.24915824915825\n",
      "p-value: 0.016170298837523696\n"
     ]
    }
   ],
   "source": [
    "#Q3. Use Python to calculate the chi-square statistic and p-value for a contingency table with the following data:\n",
    "#Ans.\n",
    "import numpy as np\n",
    "import scipy.stats as stats\n",
    "\n",
    "# Create contingency table\n",
    "observed_freq = np.array([[20, 15, 10], [10, 25, 20]])\n",
    "\n",
    "# Calculate the chi-square test statistic and p-value\n",
    "chi2_statistic, p_value, dof, expected_freq = stats.chi2_contingency(observed_freq)\n",
    "\n",
    "# Print the results\n",
    "print(\"Chi-square statistic:\", chi2_statistic)\n",
    "print(\"p-value:\", p_value)"
   ]
  },
  {
   "cell_type": "code",
   "execution_count": null,
   "id": "b8214cab-10f1-4f63-8602-b940eab7b580",
   "metadata": {},
   "outputs": [],
   "source": [
    "#Q4. A study of the prevalence of smoking in a population of 500 individuals found that 60 individuals smoked. Use Python to calculate the 95% confidence interval for the true proportion of individuals in the population who smoke.\n",
    "#Ans.\n",
    "import statsmodels.api as sm\n",
    "\n",
    "# Calculate the confidence interval\n",
    "conf_int = sm.stats.proportion_confint(60, 500, alpha=0.05, method='normal')\n",
    "\n",
    "# Print the results\n",
    "print(\"95% confidence interval:\", conf_int)"
   ]
  },
  {
   "cell_type": "code",
   "execution_count": 4,
   "id": "73916ad5-c5b2-48e3-90b1-ad1b77f978f0",
   "metadata": {},
   "outputs": [
    {
     "name": "stdout",
     "output_type": "stream",
     "text": [
      "90% confidence interval: (73.02617564765823, 76.97382435234177)\n"
     ]
    }
   ],
   "source": [
    "#Q5. Calculate the 90% confidence interval for a sample of data with a mean of 75 and a standard deviation of 12 using Python. Interpret the results.\n",
    "#Ans.\n",
    "import scipy.stats as stats\n",
    "\n",
    "# Define the sample size, mean, and standard deviation\n",
    "n = 100\n",
    "mean = 75\n",
    "std_dev = 12\n",
    "\n",
    "# Calculate the standard error of the mean\n",
    "sem = std_dev / (n ** 0.5)\n",
    "\n",
    "# Calculate the confidence interval\n",
    "conf_int = stats.norm.interval(0.9, loc=mean, scale=sem)\n",
    "\n",
    "# Print the results\n",
    "print(\"90% confidence interval:\", conf_int)"
   ]
  },
  {
   "cell_type": "code",
   "execution_count": null,
   "id": "d3f5df65-dd27-45ad-a7e1-5e6d3b8ba1a7",
   "metadata": {},
   "outputs": [],
   "source": []
  },
  {
   "cell_type": "code",
   "execution_count": null,
   "id": "3e0db4d8-6930-4715-abdd-36ec41b6c164",
   "metadata": {},
   "outputs": [],
   "source": []
  },
  {
   "cell_type": "code",
   "execution_count": null,
   "id": "91a9d532-ec36-4c4b-8576-3c2d87d8002b",
   "metadata": {},
   "outputs": [],
   "source": []
  }
 ],
 "metadata": {
  "kernelspec": {
   "display_name": "Python 3 (ipykernel)",
   "language": "python",
   "name": "python3"
  },
  "language_info": {
   "codemirror_mode": {
    "name": "ipython",
    "version": 3
   },
   "file_extension": ".py",
   "mimetype": "text/x-python",
   "name": "python",
   "nbconvert_exporter": "python",
   "pygments_lexer": "ipython3",
   "version": "3.10.8"
  }
 },
 "nbformat": 4,
 "nbformat_minor": 5
}
