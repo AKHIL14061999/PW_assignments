{
 "cells": [
  {
   "cell_type": "code",
   "execution_count": 1,
   "id": "60f4e64c-4960-4a52-b287-02a7036a7a0e",
   "metadata": {},
   "outputs": [
    {
     "name": "stdout",
     "output_type": "stream",
     "text": [
      "<class 'list'>\n",
      "<class 'numpy.ndarray'>\n"
     ]
    }
   ],
   "source": [
    "#Q1. Is there any difference in the data type of variables list_ and array_list? If there is then write a code to print the data types of both the variables.\n",
    "#Ans.\n",
    "#Yes, there is a difference in the data type of the list_ and array_list variables. list_ is a list of strings, while array_list is a NumPy array of strings.\n",
    "\n",
    "import numpy as np\n",
    "\n",
    "list_ = ['1', '2', '3', '4', '5']\n",
    "array_list = np.array(object=list_)\n",
    "\n",
    "print(type(list_))\n",
    "print(type(array_list))"
   ]
  },
  {
   "cell_type": "code",
   "execution_count": null,
   "id": "91cbd17f-d3ff-4510-a991-e3153620dd90",
   "metadata": {},
   "outputs": [],
   "source": [
    "#Q2. Write a code to print the data type of each and every element of both the variables list_ and arra_list.\n",
    "#Ans.\n",
    "import numpy as np\n",
    "\n",
    "list_ = ['1', '2', '3', '4', '5']\n",
    "array_list = np.array(object=list_)\n",
    "\n",
    "# Print data type of each element in list_\n",
    "for elem in list_:\n",
    "    print(type(elem))\n",
    "\n",
    "# Print data type of each element in array_list\n",
    "for elem in array_list:\n",
    "    print(type(elem))"
   ]
  },
  {
   "cell_type": "code",
   "execution_count": null,
   "id": "3173d6dd-736a-4afb-b10b-665c26a36730",
   "metadata": {},
   "outputs": [],
   "source": [
    "#Q3. Will there be any difference in the data type of the elements present in both the variables, list_ and arra_list? \n",
    "#If so then print the data types of each and every element present in both the variables, list_ and arra_list.\n",
    "#Ans.\n",
    "import numpy as np\n",
    "\n",
    "list_ = ['1', '2', '3', '4', '5']\n",
    "array_list = np.array(object=list_, dtype=int)\n",
    "\n",
    "# Print data type of each element in list_\n",
    "for elem in list_:\n",
    "    print(type(elem))\n",
    "\n",
    "# Print data type of each element in array_list\n",
    "for elem in array_list:\n",
    "    print(type(elem))\n"
   ]
  },
  {
   "cell_type": "code",
   "execution_count": null,
   "id": "6813e60e-11e4-459b-a565-a08b08eda1df",
   "metadata": {},
   "outputs": [],
   "source": [
    "#Q4. Write a code to find the following characteristics of variable, num_array:\n",
    "#(i) shape\n",
    "#(ii) size\n",
    "#Ans.\n",
    "import numpy as np\n",
    "num_list = [ [ 1 , 2 , 3 ] , [ 4 , 5 , 6 ] ]\n",
    "num_array = np.array(object = num_list)\n",
    "\n",
    "print(num_array.shape)\n",
    "print(num_array.size)"
   ]
  },
  {
   "cell_type": "code",
   "execution_count": null,
   "id": "3ced1f01-5c51-4839-9801-351e2b726a11",
   "metadata": {},
   "outputs": [],
   "source": [
    "#Q5. Write a code to create numpy array of 3*3 matrix containing zeros only, using a numpy array creation function.\n",
    "#Ans.\n",
    "import numpy as np\n",
    "\n",
    "# Create a 3x3 matrix containing zeros only\n",
    "zero_matrix = np.zeros((3, 3))\n",
    "\n",
    "print(zero_matrix)"
   ]
  },
  {
   "cell_type": "code",
   "execution_count": null,
   "id": "ef89299b-62f3-46ff-8f78-4c8ffa957276",
   "metadata": {},
   "outputs": [],
   "source": [
    "#Q6. Create an identity matrix of shape (5,5) using numpy functions?\n",
    "#Ans.\n",
    "import numpy as np\n",
    "\n",
    "# Create a 5x5 identity matrix\n",
    "identity_matrix = np.identity(5)\n",
    "\n",
    "print(identity_matrix)"
   ]
  }
 ],
 "metadata": {
  "kernelspec": {
   "display_name": "Python 3 (ipykernel)",
   "language": "python",
   "name": "python3"
  },
  "language_info": {
   "codemirror_mode": {
    "name": "ipython",
    "version": 3
   },
   "file_extension": ".py",
   "mimetype": "text/x-python",
   "name": "python",
   "nbconvert_exporter": "python",
   "pygments_lexer": "ipython3",
   "version": "3.10.8"
  }
 },
 "nbformat": 4,
 "nbformat_minor": 5
}
