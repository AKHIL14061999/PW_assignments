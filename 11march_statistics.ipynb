{
 "cells": [
  {
   "cell_type": "code",
   "execution_count": 1,
   "id": "361fe3bd-dccd-471a-bfa9-e78df192632e",
   "metadata": {},
   "outputs": [],
   "source": [
    "#Q1: What is the difference between a t-test and a z-test? Provide an example scenario where you would use each type of test.\n",
    "#Ans.\n",
    "#A t-test and a z-test are both statistical hypothesis tests used to make inferences about a population parameter based on a sample of data.\n",
    "#The main difference between a t-test and a z-test is that the z-test is used when the population standard deviation is known, while the t-test is used when the population standard deviation is unknown and must be estimated from the sample data.\n",
    "#An example scenario where a z-test might be used is in a study of the average height of adult men in the United States. \n",
    "#an example scenario where a t-test might be used is in a study of the effectiveness of a new pain medication. "
   ]
  },
  {
   "cell_type": "code",
   "execution_count": null,
   "id": "5503231e-f19e-4a61-b710-82a195d75030",
   "metadata": {},
   "outputs": [],
   "source": [
    "#Q2: Differentiate between one-tailed and two-tailed tests.\n",
    "#Ans.\n",
    "#The choice of a one-tailed or two-tailed test depends on the research question being asked and the hypotheses being tested. \n",
    "#A one-tailed test is more powerful than a two-tailed test because it focuses on a specific direction of the difference, but it is also more prone to type I errors (rejecting the null hypothesis when it is actually true) if the direction is chosen incorrectly. \n",
    "#On the other hand, a two-tailed test is more conservative and is appropriate when there is no specific hypothesis about the direction of the difference or relationship.\n"
   ]
  },
  {
   "cell_type": "code",
   "execution_count": null,
   "id": "469ebaf1-6d06-4f6f-914a-507eb86b432e",
   "metadata": {},
   "outputs": [],
   "source": [
    "#Q3: Explain the concept of Type 1 and Type 2 errors in hypothesis testing. Provide an example scenario for each type of error.\n",
    "#Ans.\n",
    "#In hypothesis testing, a Type 1 error and a Type 2 error are two different types of mistakes that can be made when making a decision about the null hypothesis.\n",
    "#A Type 1 error occurs when the null hypothesis is rejected when it is actually true. Type 1 errors are sometimes called \"false positives.\"\n",
    "#A Type 2 error occurs when the null hypothesis is not rejected when it is actually false. Type 2 errors are sometimes called \"false negatives.\"\n",
    "#The probability of making a Type 1 error is denoted by alpha (α) and is typically set at 0.05 or 0.01, which means that there is a 5% or 1% chance of making a Type 1 error, respectively. \n",
    "#The probability of making a Type 2 error is denoted by beta (β) and depends on several factors, including the sample size, the effect size, and the level of statistical power.\n"
   ]
  },
  {
   "cell_type": "code",
   "execution_count": null,
   "id": "5e4e05a8-f975-42f3-9301-71a2a7076903",
   "metadata": {},
   "outputs": [],
   "source": [
    "#Q4: Explain Bayes's theorem with an example.\n",
    "#Ans.\n",
    "#Bayes's theorem is a mathematical formula used in probability theory and statistics to update the probability of an event occurring based on new information.\n",
    "#Bayes's theorem states that the probability of an event A occurring given some observed evidence B can be calculated as follows:\n",
    "P(A|B) = P(B|A) * P(A) / P(B)\n",
    "\n",
    "#let's consider an example. Suppose that we want to diagnose a patient with a certain disease. \n",
    "#The prevalence of the disease in the population is 5%, which means that the prior probability of the patient having the disease is P(A) = 0.05.\n",
    "#We conduct a diagnostic test with a sensitivity of 90% and a specificity of 80%. This means that the likelihood of testing positive (B) given that the patient has the disease (A) is P(B|A) = 0.9, and the likelihood of testing negative (not B) given that the patient does not have the disease (not A) is P(not B|not A) = 0.8.\n",
    "#If the patient tests positive (B), we can use Bayes's theorem to calculate the probability of the patient actually having the disease (A) as follows:\n",
    "P(A|B) = P(B|A) * P(A) / P(B)\n",
    "P(A|B) = 0.9 * 0.05 / [(0.9 * 0.05) + (0.2 * 0.95)]\n",
    "P(A|B) = 0.214\n",
    "#Therefore, the posterior probability of the patient having the disease given the positive test result is 21.4%.\n"
   ]
  },
  {
   "cell_type": "code",
   "execution_count": null,
   "id": "8971f8ab-3daf-4ec6-954e-84ed8230b4e5",
   "metadata": {},
   "outputs": [],
   "source": [
    "#Q5: What is a confidence interval? How to calculate the confidence interval, explain with an example.\n",
    "#Ans.\n",
    "#A confidence interval is a range of values that is likely to contain the true value of a population parameter with a certain degree of confidence or probability. It is a statistical measure used to estimate the precision of a sample estimate of a population parameter.\n",
    "#The formula to calculate a confidence interval is:\n",
    "#Confidence interval = sample statistic +/- margin of error"
   ]
  },
  {
   "cell_type": "code",
   "execution_count": 2,
   "id": "66b8419b-5606-42d1-8a5b-26b449b1080e",
   "metadata": {},
   "outputs": [
    {
     "ename": "SyntaxError",
     "evalue": "cannot assign to function call here. Maybe you meant '==' instead of '='? (3436573249.py, line 4)",
     "output_type": "error",
     "traceback": [
      "\u001b[0;36m  Cell \u001b[0;32mIn[2], line 4\u001b[0;36m\u001b[0m\n\u001b[0;31m    P(A|B) = P(B|A) x P(A) / P(B)\u001b[0m\n\u001b[0m    ^\u001b[0m\n\u001b[0;31mSyntaxError\u001b[0m\u001b[0;31m:\u001b[0m cannot assign to function call here. Maybe you meant '==' instead of '='?\n"
     ]
    }
   ],
   "source": [
    "#Q6. Use Bayes' Theorem to calculate the probability of an event occurring given prior knowledge of the event's probability and new evidence. Provide a sample problem and solution.\n",
    "#Ans.\n",
    "#Bayes' Theorem is a mathematical formula used to calculate the probability of an event occurring based on prior knowledge of the event's probability and new evidence. The formula is as follows:\n",
    "P(A|B) = P(B|A) x P(A) / P(B)\n",
    "\n",
    "#Sample problem:\n",
    "#Suppose that there is a certain medical test that can detect a rare disease, and that the test has a false positive rate of 5%, meaning that 5% of people who don't have the disease will test positive. The disease affects 1 in 1000 people. If a person tests positive, what is the probability that they actually have the disease?\n",
    "\n",
    "#Solution:\n",
    "#Let A be the event that a person has the disease, and B be the event that a person tests positive.\n",
    "\n",
    "P(A) = 0.001 (given in the problem)\n",
    "P(B|A) = 1 (if a person has the disease, the test will always be positive)\n",
    "P(B|not A) = 0.05 (5% false positive rate)\n",
    "P(not A) = 0.999 (complement of P(A))\n",
    "\n",
    "#We can now use Bayes' Theorem to calculate the probability that a person has the disease given that they tested positive:\n",
    "P(A|B) = P(B|A) x P(A) / P(B|A) x P(A) + P(B|not A) x P(not A)\n",
    "= 1 x 0.001 / (1 x 0.001 + 0.05 x 0.999)\n",
    "= 0.019\n",
    "\n",
    "#Therefore, the probability that a person who tests positive actually has the disease is only 1.9%\n"
   ]
  },
  {
   "cell_type": "code",
   "execution_count": null,
   "id": "23d33390-f071-4cb4-9f22-f225af9a1ee8",
   "metadata": {},
   "outputs": [],
   "source": []
  },
  {
   "cell_type": "code",
   "execution_count": null,
   "id": "9e3f4d5b-1393-46b9-89cf-987b1e784bf6",
   "metadata": {},
   "outputs": [],
   "source": []
  },
  {
   "cell_type": "code",
   "execution_count": null,
   "id": "798e9819-5e0e-4013-ab81-4d81fafe427e",
   "metadata": {},
   "outputs": [],
   "source": []
  }
 ],
 "metadata": {
  "kernelspec": {
   "display_name": "Python 3 (ipykernel)",
   "language": "python",
   "name": "python3"
  },
  "language_info": {
   "codemirror_mode": {
    "name": "ipython",
    "version": 3
   },
   "file_extension": ".py",
   "mimetype": "text/x-python",
   "name": "python",
   "nbconvert_exporter": "python",
   "pygments_lexer": "ipython3",
   "version": "3.10.8"
  }
 },
 "nbformat": 4,
 "nbformat_minor": 5
}
