{
 "cells": [
  {
   "cell_type": "markdown",
   "id": "c76e85b4-9066-4c5f-8e82-fc215bff466c",
   "metadata": {},
   "source": [
    "#Q1. What is the difference between Ordinal Encoding and Label Encoding? Provide an example of when you might choose one over the other.\n",
    "#Ans.\n",
    "#Ordinal Encoding and Label Encoding are both techniques used to encode categorical variables into numerical values.\n",
    "#Ordinal Encoding assigns numerical values to categories based on their order or rank, while Label Encoding assigns numerical values to categories arbitrarily. \n",
    "\n",
    "#In terms of when to use one over the other, it depends on the nature of the categorical variable and the problem at hand.\n",
    "#If there is a natural ordering of the categories, then Ordinal Encoding may be preferred as it can preserve the order of the categories. \n",
    "#If there is no natural ordering of the categories, then Label Encoding may be used. "
   ]
  },
  {
   "cell_type": "markdown",
   "id": "7d161b52-50bf-47a0-9ac9-09a44f010468",
   "metadata": {},
   "source": [
    "#Q2. Explain how Target Guided Ordinal Encoding works and provide an example of when you might use it in a machine learning project.\n",
    "#Ans.\n",
    "#Target Guided Ordinal Encoding is a technique used to encode categorical variables into numerical values based on the relationship between the categories and the target variable.\n",
    "#The basic idea behind Target Guided Ordinal Encoding is to assign numerical values to the categories based on their relationship with the target variable.\n",
    "\n",
    "#Target Guided Ordinal Encoding can be useful in machine learning projects when there is a strong correlation between the categories of a categorical variable and the target variable. \n"
   ]
  },
  {
   "cell_type": "markdown",
   "id": "780579c1-2454-4a38-a31c-8ebdf31bf5d6",
   "metadata": {},
   "source": [
    "#Q3. Define covariance and explain why it is important in statistical analysis. How is covariance calculated?\n",
    "#Ans.\n",
    "#Covariance is a measure of the joint variability between two random variables. It measures the degree to which two variables vary together. \n",
    "#If two variables have a positive covariance, it means that they tend to increase or decrease together. \n",
    "#If they have a negative covariance, it means that one variable tends to increase when the other decreases.\n",
    "\n",
    "#Covariance is an important measure in statistical analysis because it helps us understand the relationship between two variables.\n",
    "#Covariance can be calculated using the following formula:\n",
    "cov(X,Y) = E[(X - E[X])(Y - E[Y])]"
   ]
  },
  {
   "cell_type": "code",
   "execution_count": 1,
   "id": "89630ef4-0b34-4228-b91d-30d8090c67b5",
   "metadata": {},
   "outputs": [
    {
     "name": "stdout",
     "output_type": "stream",
     "text": [
      "   Color  Size  Material\n",
      "0      2     2         2\n",
      "1      1     1         0\n",
      "2      0     0         1\n",
      "3      2     1         0\n",
      "4      0     2         2\n"
     ]
    }
   ],
   "source": [
    "#Q4. For a dataset with the following categorical variables: Color (red, green, blue), Size (small, medium, large), and Material (wood, metal, plastic), perform label encoding using Python's scikit-learn library. Show your code and explain the output.\n",
    "#Ans.\n",
    "from sklearn.preprocessing import LabelEncoder\n",
    "import pandas as pd\n",
    "\n",
    "# Create a sample dataset\n",
    "data = {'Color': ['red', 'green', 'blue', 'red', 'blue'],\n",
    "        'Size': ['small', 'medium', 'large', 'medium', 'small'],\n",
    "        'Material': ['wood', 'metal', 'plastic', 'metal', 'wood']}\n",
    "df = pd.DataFrame(data)\n",
    "\n",
    "# Initialize the label encoder\n",
    "le = LabelEncoder()\n",
    "\n",
    "# Encode the categorical variables\n",
    "df['Color'] = le.fit_transform(df['Color'])\n",
    "df['Size'] = le.fit_transform(df['Size'])\n",
    "df['Material'] = le.fit_transform(df['Material'])\n",
    "\n",
    "print(df)"
   ]
  },
  {
   "cell_type": "code",
   "execution_count": 2,
   "id": "9560c30b-546d-4882-bfcb-980b0c9c2f27",
   "metadata": {},
   "outputs": [
    {
     "name": "stdout",
     "output_type": "stream",
     "text": [
      "[[1.195e+02 2.075e+05 3.350e+01]\n",
      " [2.075e+05 4.250e+08 6.000e+04]\n",
      " [3.350e+01 6.000e+04 1.000e+01]]\n"
     ]
    }
   ],
   "source": [
    "#Q5. Calculate the covariance matrix for the following variables in a dataset: Age, Income, and Education level. Interpret the results.\n",
    "#Ans.\n",
    "import numpy as np\n",
    "\n",
    "# Define the variables as numpy arrays\n",
    "age = np.array([25, 32, 45, 28, 50])\n",
    "income = np.array([50000, 75000, 100000, 60000, 90000])\n",
    "education = np.array([12, 16, 18, 14, 20])\n",
    "\n",
    "# Stack the variables into a single 2D array\n",
    "data = np.vstack((age, income, education)).T\n",
    "\n",
    "# Calculate the covariance matrix\n",
    "cov_matrix = np.cov(data, rowvar=False)\n",
    "\n",
    "# Print the covariance matrix\n",
    "print(cov_matrix)"
   ]
  },
  {
   "cell_type": "code",
   "execution_count": null,
   "id": "71ff5a6e-2507-4638-bbe0-47ecfce265e2",
   "metadata": {},
   "outputs": [],
   "source": []
  }
 ],
 "metadata": {
  "kernelspec": {
   "display_name": "Python 3 (ipykernel)",
   "language": "python",
   "name": "python3"
  },
  "language_info": {
   "codemirror_mode": {
    "name": "ipython",
    "version": 3
   },
   "file_extension": ".py",
   "mimetype": "text/x-python",
   "name": "python",
   "nbconvert_exporter": "python",
   "pygments_lexer": "ipython3",
   "version": "3.10.8"
  }
 },
 "nbformat": 4,
 "nbformat_minor": 5
}
