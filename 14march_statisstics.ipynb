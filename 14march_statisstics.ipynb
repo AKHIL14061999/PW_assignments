{
 "cells": [
  {
   "cell_type": "code",
   "execution_count": 1,
   "id": "e6032a9b-1450-4816-b4b6-28597ee1d885",
   "metadata": {},
   "outputs": [
    {
     "name": "stdout",
     "output_type": "stream",
     "text": [
      "F-value: 7.2\n",
      "p-value: 0.027784351010990103\n"
     ]
    }
   ],
   "source": [
    "#Q1. Write a Python function that takes in two arrays of data and calculates the F-value for a variance ratio test. The function should return the F-value and the corresponding p-value for the test.\n",
    "#Ans.\n",
    "from scipy.stats import f_oneway\n",
    "\n",
    "def variance_ratio_test(data1, data2):\n",
    "    \"\"\"\n",
    "    Perform a variance ratio test on two arrays of data.\n",
    "    \n",
    "    Parameters:\n",
    "    data1 (array-like): First array of data.\n",
    "    data2 (array-like): Second array of data.\n",
    "    \n",
    "    Returns:\n",
    "    F (float): F-value for the variance ratio test.\n",
    "    p_value (float): p-value for the variance ratio test.\n",
    "    \"\"\"\n",
    "    F, p_value = f_oneway(data1, data2)\n",
    "    return F, p_value\n",
    "\n",
    "data1 = [1, 2, 3, 4, 5]\n",
    "data2 = [3, 6, 9, 12, 15]\n",
    "F, p_value = variance_ratio_test(data1, data2)\n",
    "print(\"F-value:\", F)\n",
    "print(\"p-value:\", p_value)"
   ]
  },
  {
   "cell_type": "code",
   "execution_count": 2,
   "id": "5e117040-14ac-40bd-b415-ecbb9d1fa6a4",
   "metadata": {},
   "outputs": [
    {
     "data": {
      "text/plain": [
       "4.18206059099611"
      ]
     },
     "execution_count": 2,
     "metadata": {},
     "output_type": "execute_result"
    }
   ],
   "source": [
    "#Q2. Given a significance level of 0.05 and the degrees of freedom for the numerator and denominator of an F-distribution, write a Python function that returns the critical F-value for a two-tailed test.\n",
    "#Ans.\n",
    "import scipy.stats as stats\n",
    "\n",
    "def critical_f_value(num_df, denom_df, alpha=0.05):\n",
    "    \"\"\"\n",
    "    Calculate the critical F-value for a two-tailed test with given degrees of freedom and significance level.\n",
    "\n",
    "    Parameters:\n",
    "        num_df (int): Degrees of freedom for the numerator.\n",
    "        denom_df (int): Degrees of freedom for the denominator.\n",
    "        alpha (float): Significance level. Default is 0.05.\n",
    "\n",
    "    Returns:\n",
    "        float: The critical F-value for a two-tailed test.\n",
    "    \"\"\"\n",
    "    return stats.f.ppf(1 - alpha / 2, num_df, denom_df)\n",
    "\n",
    "critical_f_value(2, 30)"
   ]
  },
  {
   "cell_type": "code",
   "execution_count": 3,
   "id": "a91e07e1-57f8-4456-86e0-92af030b6013",
   "metadata": {},
   "outputs": [
    {
     "name": "stdout",
     "output_type": "stream",
     "text": [
      "F-value:  0.23190334501317728\n",
      "Degrees of freedom:  29 29\n",
      "p-value:  8.94025723548389e-05\n"
     ]
    }
   ],
   "source": [
    "#Q3. Write a Python program that generates random samples from two normal distributions with knownvariances and uses an F-test to determine if the variances are equal. The program should output the F-value, degrees of freedom, and p-value for the test.\n",
    "#Ans.\n",
    "import numpy as np\n",
    "import scipy.stats as stats\n",
    "\n",
    "# set seed for reproducibility\n",
    "np.random.seed(123)\n",
    "\n",
    "# generate random samples from two normal distributions\n",
    "mu1, mu2 = 0, 0\n",
    "sigma1, sigma2 = 1, 2\n",
    "n1, n2 = 30, 30\n",
    "\n",
    "sample1 = np.random.normal(mu1, sigma1, n1)\n",
    "sample2 = np.random.normal(mu2, sigma2, n2)\n",
    "\n",
    "# calculate the F-test statistic and p-value\n",
    "F = np.var(sample1, ddof=1) / np.var(sample2, ddof=1)\n",
    "df1 = n1 - 1\n",
    "df2 = n2 - 1\n",
    "p_value = stats.f.cdf(F, df1, df2)\n",
    "\n",
    "# print the results\n",
    "print(\"F-value: \", F)\n",
    "print(\"Degrees of freedom: \", df1, df2)\n",
    "print(\"p-value: \", p_value)"
   ]
  },
  {
   "cell_type": "code",
   "execution_count": 4,
   "id": "e3d1b6fd-ef8f-44dc-a789-c135045bbee2",
   "metadata": {},
   "outputs": [
    {
     "name": "stdout",
     "output_type": "stream",
     "text": [
      "3.473699051085809\n"
     ]
    }
   ],
   "source": [
    "#Q4.The variances of two populations are known to be 10 and 15. A sample of 12 observations is taken fromeach population. Conduct an F-test at the 5% significance level to determine if the variances aresignificantly different.\n",
    "#Ans.\n",
    "import scipy.stats as stats\n",
    "\n",
    "# Calculate the critical F-value\n",
    "alpha = 0.05\n",
    "num_df = 11\n",
    "denom_df = 11\n",
    "crit_F = stats.f.ppf(1 - alpha/2, num_df, denom_df)\n",
    "print(crit_F)"
   ]
  },
  {
   "cell_type": "code",
   "execution_count": 5,
   "id": "376cc19c-5eaa-4fa4-aec9-563c3740501a",
   "metadata": {},
   "outputs": [
    {
     "name": "stdout",
     "output_type": "stream",
     "text": [
      "nan\n"
     ]
    }
   ],
   "source": [
    "#Q5. A manufacturer claims that the variance of the diameter of a certain product is 0.005. A sample of 25 products is taken, and the sample variance is found to be 0.006. Conduct an F-test at the 1% significancelevel to determine if the claim is justified.\n",
    "#Ans.\n",
    "import scipy.stats as stats\n",
    "\n",
    "# Calculate the p-value\n",
    "alpha = 0.01\n",
    "num_df = 24\n",
    "denom_df = 0\n",
    "p_value = stats.f.sf(1.2, num_df, denom_df) * 2\n",
    "print(p_value)"
   ]
  },
  {
   "cell_type": "code",
   "execution_count": 6,
   "id": "e7f85015-9e6e-4aae-b270-1cadeb6be9e0",
   "metadata": {},
   "outputs": [
    {
     "name": "stdout",
     "output_type": "stream",
     "text": [
      "Mean: 1.1111111111111112\n",
      "Variance: 0.0016975308641975309\n"
     ]
    }
   ],
   "source": [
    "#Q6. Write a Python function that takes in the degrees of freedom for the numerator and denominator of an F-distribution and calculates the mean and variance of the distribution. The function should return the mean and variance as a tuple.\n",
    "#Ans.\n",
    "def f_distribution_mean_and_variance(dfn, dfd):\n",
    "    \"\"\"\n",
    "    Calculates the mean and variance of an F-distribution with degrees of freedom for the numerator and denominator equal\n",
    "    to dfn and dfd, respectively.\n",
    "\n",
    "    Parameters:\n",
    "        dfn (int): Degrees of freedom for the numerator.\n",
    "        dfd (int): Degrees of freedom for the denominator.\n",
    "\n",
    "    Returns:\n",
    "        (tuple): A tuple containing the mean and variance of the F-distribution.\n",
    "    \"\"\"\n",
    "    mean = dfd / (dfd - 2)\n",
    "    variance = 2 * dfn * (dfd + dfn - 2) / (dfd * (dfd - 2)**2 * (dfd - 4))\n",
    "    return (mean, variance)\n",
    "\n",
    "# Example usage\n",
    "mean, variance = f_distribution_mean_and_variance(4, 20)\n",
    "print(\"Mean:\", mean)\n",
    "print(\"Variance:\", variance)"
   ]
  },
  {
   "cell_type": "code",
   "execution_count": null,
   "id": "b2b7aa38-206c-40b5-bfad-d52b1ed68ac7",
   "metadata": {},
   "outputs": [],
   "source": []
  },
  {
   "cell_type": "code",
   "execution_count": null,
   "id": "af666813-4692-4160-aa75-a0bba943eff5",
   "metadata": {},
   "outputs": [],
   "source": []
  }
 ],
 "metadata": {
  "kernelspec": {
   "display_name": "Python 3 (ipykernel)",
   "language": "python",
   "name": "python3"
  },
  "language_info": {
   "codemirror_mode": {
    "name": "ipython",
    "version": 3
   },
   "file_extension": ".py",
   "mimetype": "text/x-python",
   "name": "python",
   "nbconvert_exporter": "python",
   "pygments_lexer": "ipython3",
   "version": "3.10.8"
  }
 },
 "nbformat": 4,
 "nbformat_minor": 5
}
