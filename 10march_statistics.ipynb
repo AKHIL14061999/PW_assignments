{
 "cells": [
  {
   "cell_type": "markdown",
   "id": "eebac52e-ace8-4486-8bd9-01cf7dfbbc58",
   "metadata": {},
   "source": [
    "Question 1: What is Estimation Statistics? Explain point estimate and interval estimate"
   ]
  },
  {
   "cell_type": "markdown",
   "id": "23f39fa9-75c8-4f3b-b541-8f24bc2fb864",
   "metadata": {},
   "source": [
    "Answer :\n",
    "Estimation statistics is a branch of statistics that deals with estimating or inferring population parameters based on sample data. In other words, it involves using statistical methods to estimate the values of parameters that describe a population from a sample of that population.\n",
    "There are two main types of estimation in statistics: point estimation and interval estimation.\n",
    "Point Estimation: Point estimation involves estimating a population parameter by a single value, which is called a point estimate. A point estimate is usually the sample statistic, such as the sample mean, sample proportion, or sample standard deviation. For example, if you want to estimate the average height of all people in a city, you can take a sample of people and calculate the mean height of that sample. This mean height is a point estimate of the population mean height.\n",
    "\n",
    "Interval Estimation: Interval estimation involves estimating a population parameter by a range of values, which is called an interval estimate. The range of values is called a confidence interval, and it provides a measure of the precision or uncertainty of the estimate. The confidence interval is usually computed by using a sample statistic and a margin of error. For example, if you want to estimate the average height of all people in a city, you can take a sample of people and calculate the mean height of that sample, along with a margin of error. The confidence interval for the population mean height is the range of values that includes the point estimate (sample mean) and the margin of error.\n",
    "\n",
    "In summary, point estimation involves estimating a population parameter by a single value, while interval estimation involves estimating a population parameter by a range of values that provides a measure of the precision or uncertainty of the estimate."
   ]
  },
  {
   "cell_type": "markdown",
   "id": "220e4809-3536-4e38-bec1-19109c5ae1da",
   "metadata": {},
   "source": [
    "Question 2 : Write a Python function to estimate the population mean using a sample mean and standard deviation."
   ]
  },
  {
   "cell_type": "markdown",
   "id": "87b76734-5382-406e-995a-2c79934ecff9",
   "metadata": {},
   "source": [
    "Answer :\n",
    "1. Creating a estimate_pop_mean function"
   ]
  },
  {
   "cell_type": "code",
   "execution_count": 1,
   "id": "d74088a9-0c1d-4c42-9f47-f0def608b63b",
   "metadata": {},
   "outputs": [],
   "source": [
    "import math\n",
    "import scipy.stats as stats\n",
    "\n",
    "def estimate_pop_mean(samples, confidence_level=0.95):\n",
    "    # calculate the sample mean and standard deviation\n",
    "    sample_mean = sum(samples) / len(samples)\n",
    "    sample_std = math.sqrt(sum([(x - sample_mean)**2 for x in samples]) / (len(samples) - 1))\n",
    "\n",
    "    # calculate the t-value for the desired level of confidence and degrees of freedom\n",
    "    alpha = 1 - confidence_level\n",
    "    dof = len(samples) - 1\n",
    "    t_value = stats.t.ppf(1 - alpha/2, dof)\n",
    "\n",
    "    # calculate the standard error and margin of error\n",
    "    std_error = sample_std / math.sqrt(len(samples))\n",
    "    margin_of_error = t_value * std_error\n",
    "\n",
    "    # calculate the confidence interval bounds\n",
    "    lower_bound = sample_mean - margin_of_error\n",
    "    upper_bound = sample_mean + margin_of_error\n",
    "\n",
    "    # return the confidence interval as a tuple\n",
    "    return (lower_bound, upper_bound)"
   ]
  },
  {
   "cell_type": "markdown",
   "id": "83252742-dfb9-4a82-a4ff-513d24bfda48",
   "metadata": {},
   "source": [
    "2. Example with sample and population data\n"
   ]
  },
  {
   "cell_type": "code",
   "execution_count": 2,
   "id": "ac81dc39-0459-431d-bd6c-afe9c80d9674",
   "metadata": {},
   "outputs": [
    {
     "name": "stdout",
     "output_type": "stream",
     "text": [
      "ESTIMATED population mean point estimate is : 47.368925783282364\n",
      "ESTIMATED population mean with 95% confidence interval : (41.64314360778864,53.09470795877612)\n",
      "\n",
      "==========================================================================================================\n",
      "\n",
      "ACTUAL Population mean is : 49.02565533201336\n"
     ]
    }
   ],
   "source": [
    "import numpy as np\n",
    "import random\n",
    "\n",
    "# Set random seed for reproducibility\n",
    "np.random.seed(42)\n",
    "\n",
    "# Create a population of 1000 random values between 0 and 100\n",
    "population_size = 1000\n",
    "population = np.random.uniform(low=0, high=100, size=population_size)\n",
    "\n",
    "# Take a random sample of 100 values from the population\n",
    "sample_size = 100\n",
    "sample = random.sample(list(population), sample_size)\n",
    "\n",
    "# Estimate the population mean and interval using the sample data\n",
    "lower_bound, upper_bound = estimate_pop_mean(sample)\n",
    "\n",
    "# Print the estimated mean\n",
    "print(f\"ESTIMATED population mean point estimate is : {np.mean(sample)}\")\n",
    "print(f\"ESTIMATED population mean with 95% confidence interval : ({lower_bound},{upper_bound})\")\n",
    "print('\\n==========================================================================================================\\n')\n",
    "# Printing Actual population mean \n",
    "print(f\"ACTUAL Population mean is : {np.mean(population)}\")"
   ]
  },
  {
   "cell_type": "markdown",
   "id": "042a7a7c-c629-4f78-bd43-8b66aedcede8",
   "metadata": {},
   "source": [
    "Question 3 : What is Hypothesis testing? Why is it used? State the importance of Hypothesis testing"
   ]
  },
  {
   "cell_type": "markdown",
   "id": "83414157-ebdd-487d-b57b-5216f4220065",
   "metadata": {},
   "source": [
    "nswer :\n",
    "Hypothesis testing is a statistical method used to determine whether a hypothesis about a population parameter is supported by the evidence provided by a sample of data. The process involves making a statistical inference about a population parameter, such as a mean or a proportion, based on sample data.\n",
    "In hypothesis testing, a null hypothesis is initially assumed to be true, and then evidence is gathered and analyzed to determine whether the null hypothesis can be rejected in favor of an alternative hypothesis. The null hypothesis represents the status quo or the default assumption, while the alternative hypothesis represents the proposed change or difference.\n",
    "Hypothesis testing is used in many fields, including science, engineering, business, and social sciences, to draw conclusions about the population based on sample data. For example, a pharmaceutical company may use hypothesis testing to determine whether a new drug is more effective than an existing drug. A marketing team may use hypothesis testing to determine whether a new advertising campaign is more effective than the current one.\n",
    "The importance of hypothesis testing lies in its ability to make statistical inferences about a population based on sample data, while accounting for the uncertainty and variability of the data. It provides a systematic and objective way to test a hypothesis and draw conclusions based on the evidence. Hypothesis testing allows us to make informed decisions based on data, rather than relying on intuition or guesswork. It is a critical tool in scientific research, where the validity and reliability of the results depend on the appropriate use of hypothesis testing.\n"
   ]
  },
  {
   "cell_type": "markdown",
   "id": "74cc75f2-15dd-4e51-89f4-a4912174d1cc",
   "metadata": {},
   "source": [
    "Question 4 : Create a hypothesis that states whether the average weight of male college students is greater than the average weight of female college students."
   ]
  },
  {
   "cell_type": "markdown",
   "id": "24002030-6adf-4f14-b6c4-2f73995c1e9e",
   "metadata": {},
   "source": [
    "Answer :\n",
    "Null hypothesis: The average weight of male college students is equal to or less than the average weight of female college students.\n",
    "Alternative hypothesis: The average weight of male college students is greater than the average weight of female college students.\n",
    "In statistical notation, this can be represented as:\n",
    "H0: μm ≤ μf\n",
    "Ha: μm > μf\n",
    "where:\n",
    "H0 = null hypothesis\n",
    "\n",
    "Ha = alternative hypothesis\n",
    "\n",
    "μm = population mean weight of male college students\n",
    "\n",
    "μf = population mean weight of female college students\n",
    "The null hypothesis assumes that there is no significant difference in weight between male and female college students.\n",
    "The alternative hypothesis assumes that there is a significant difference in weight, and specifically that male college students have a higher average weight than female college students.\n",
    "\n"
   ]
  },
  {
   "cell_type": "markdown",
   "id": "b8db455f-d368-4931-bf0a-8cabeb6c5c64",
   "metadata": {},
   "source": [
    "Question 5 : Write a Python script to conduct a hypothesis test on the difference between two population means, given a sample from each population."
   ]
  },
  {
   "cell_type": "markdown",
   "id": "248d3f7b-4b57-4854-bcd0-426dc775a352",
   "metadata": {},
   "source": [
    "Answer :\n",
    "Done this with help of t distribution from scipy.stats"
   ]
  },
  {
   "cell_type": "code",
   "execution_count": 3,
   "id": "e13ffcbb-ac64-4180-9cb6-4f60abc59a51",
   "metadata": {},
   "outputs": [
    {
     "name": "stdout",
     "output_type": "stream",
     "text": [
      "p-value : 0.22461584380277022\n",
      "t-statistic : 0.7955870797707367\n",
      "t-crit : 2.3060041350333704\n",
      "Fail to reject the null hypothesis: The population means of the two samples are EQUAL\n",
      "Fail to reject the null hypothesis: The population means of the two samples are EQUAL\n"
     ]
    }
   ],
   "source": [
    "import numpy as np\n",
    "from scipy.stats import t\n",
    "\n",
    "# Sample data\n",
    "sample1 = np.array([2.5, 3.2, 2.9, 3.8, 3.5])\n",
    "sample2 = np.array([2.1, 3.0, 3.5, 2.8, 3.2])\n",
    "\n",
    "# Sample statistics\n",
    "n1 = len(sample1)\n",
    "n2 = len(sample2)\n",
    "mean1 = np.mean(sample1)\n",
    "mean2 = np.mean(sample2)\n",
    "std1 = np.std(sample1, ddof=1)\n",
    "std2 = np.std(sample2, ddof=1)\n",
    "\n",
    "# Null and alternative hypotheses\n",
    "null_hypothesis = \"The population means of the two samples are EQUAL\"\n",
    "alt_hypothesis = \"The population mean of sample 1 and sample 2 are NOT Equal\"\n",
    "\n",
    "# Calculate the t-statistic and degrees of freedom\n",
    "sp = np.sqrt(((n1-1)*(std1**2) + (n2-1)*(std2**2)) / (n1+n2-2))\n",
    "t_stat = (mean1 - mean2) / (sp * np.sqrt(1/n1 + 1/n2))\n",
    "df = n1 + n2 - 2\n",
    "\n",
    "# Calculate the p-value and critical value\n",
    "p_value = 1 - t.cdf(t_stat, df=df)\n",
    "alpha = 0.05\n",
    "t_crit = t.ppf(1-alpha/2, df=df)\n",
    "\n",
    "# Print p_value\n",
    "print(f'p-value : {p_value}')\n",
    "\n",
    "# Print t_stat\n",
    "print(f't-statistic : {t_stat}')\n",
    "\n",
    "#print t_crit\n",
    "print(f't-crit : {t_crit}')\n",
    "\n",
    "# Compare the p-value and critical value to the significance level\n",
    "if p_value < alpha:\n",
    "    print(\"Reject the null hypothesis: \" + null_hypothesis)\n",
    "    print(\"Accept the alternative hypothesis: \" + alt_hypothesis)\n",
    "else:\n",
    "    print(\"Fail to reject the null hypothesis: \" + null_hypothesis)\n",
    "    \n",
    "# Compare the t-statistic to the critical value\n",
    "if abs(t_stat) > t_crit:\n",
    "    print(\"Reject the null hypothesis: \" + null_hypothesis)\n",
    "    print(\"Accept the alternative hypothesis: \" + alt_hypothesis)\n",
    "else:\n",
    "    print(\"Fail to reject the null hypothesis: \" + null_hypothesis)"
   ]
  },
  {
   "cell_type": "code",
   "execution_count": null,
   "id": "f82f4c94-5db8-4a95-a533-f7014c24c1e0",
   "metadata": {},
   "outputs": [],
   "source": []
  }
 ],
 "metadata": {
  "kernelspec": {
   "display_name": "Python 3 (ipykernel)",
   "language": "python",
   "name": "python3"
  },
  "language_info": {
   "codemirror_mode": {
    "name": "ipython",
    "version": 3
   },
   "file_extension": ".py",
   "mimetype": "text/x-python",
   "name": "python",
   "nbconvert_exporter": "python",
   "pygments_lexer": "ipython3",
   "version": "3.10.8"
  }
 },
 "nbformat": 4,
 "nbformat_minor": 5
}
