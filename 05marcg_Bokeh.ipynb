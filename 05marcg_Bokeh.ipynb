{
 "cells": [
  {
   "cell_type": "code",
   "execution_count": 1,
   "id": "4fa705d7-1168-460e-b5ea-1c675cfda63d",
   "metadata": {},
   "outputs": [],
   "source": [
    "#Q1. How can you create a Bokeh plot using Python code?\n",
    "#Ans.\n",
    "\n",
    "from bokeh.plotting import figure, output_file, show\n",
    "x = [1, 2, 3, 4, 5]\n",
    "y = [6, 7, 2, 4, 5]\n",
    "p = figure(title=\"My Plot\", x_axis_label='X', y_axis_label='Y')\n",
    "p.circle(x, y, size=10, color='blue')\n",
    "output_file(\"myplot.html\")\n",
    "show(p)"
   ]
  },
  {
   "cell_type": "code",
   "execution_count": 2,
   "id": "9bcd8ea2-6768-4de6-aada-b8f25b924ec6",
   "metadata": {},
   "outputs": [],
   "source": [
    "#Q2. What are glyphs in Bokeh, and how can you add them to a Bokeh plot? Explain with an example.\n",
    "#Ans.\n",
    "#Glyphs are the basic visual building blocks in Bokeh that represent data points in a plot. \n",
    "#They are geometric shapes such as circles, squares, and triangles, and can be customized with various properties like size, color, and transparency.\n",
    "#To add glyphs to a Bokeh plot, we can use glyph methods like circle(), line(), square().\n",
    "\n",
    "from bokeh.plotting import figure, show\n",
    "\n",
    "# create some data\n",
    "x = [1, 2, 3, 4, 5]\n",
    "y = [9, 1, 2, 3, 5]\n",
    "\n",
    "# create a new plot with a title and axis labels\n",
    "p = figure(title=\"My Plot\", x_axis_label='X', y_axis_label='Y')\n",
    "\n",
    "# add circles to the plot using the circle() method\n",
    "p.circle(x, y, size=10, color='blue')\n",
    "\n",
    "# display the plot\n",
    "show(p)"
   ]
  },
  {
   "cell_type": "code",
   "execution_count": 3,
   "id": "8ff0f8da-4246-4a72-9d89-0ab7d9224254",
   "metadata": {},
   "outputs": [
    {
     "ename": "AttributeError",
     "evalue": "unexpected attribute 'interval' to BasicTicker, similar attributes are min_interval or max_interval",
     "output_type": "error",
     "traceback": [
      "\u001b[0;31m---------------------------------------------------------------------------\u001b[0m",
      "\u001b[0;31mAttributeError\u001b[0m                            Traceback (most recent call last)",
      "Cell \u001b[0;32mIn[3], line 14\u001b[0m\n\u001b[1;32m     12\u001b[0m p\u001b[38;5;241m.\u001b[39maxis\u001b[38;5;241m.\u001b[39mminor_tick_line_color \u001b[38;5;241m=\u001b[39m \u001b[38;5;28;01mNone\u001b[39;00m  \u001b[38;5;66;03m# remove minor tick lines\u001b[39;00m\n\u001b[1;32m     13\u001b[0m p\u001b[38;5;241m.\u001b[39mygrid\u001b[38;5;241m.\u001b[39mgrid_line_color \u001b[38;5;241m=\u001b[39m \u001b[38;5;28;01mNone\u001b[39;00m  \u001b[38;5;66;03m# remove y-axis grid lines\u001b[39;00m\n\u001b[0;32m---> 14\u001b[0m \u001b[43mp\u001b[49m\u001b[38;5;241;43m.\u001b[39;49m\u001b[43mxaxis\u001b[49m\u001b[43m[\u001b[49m\u001b[38;5;241;43m0\u001b[39;49m\u001b[43m]\u001b[49m\u001b[38;5;241;43m.\u001b[39;49m\u001b[43mticker\u001b[49m\u001b[38;5;241;43m.\u001b[39;49m\u001b[43minterval\u001b[49m \u001b[38;5;241m=\u001b[39m \u001b[38;5;241m0.5\u001b[39m  \u001b[38;5;66;03m# set x-axis tick interval\u001b[39;00m\n\u001b[1;32m     16\u001b[0m \u001b[38;5;66;03m#3. Legend: You can add a legend to your plot using the legend attribute of the glyph renderer object.\u001b[39;00m\n\u001b[1;32m     17\u001b[0m renderer \u001b[38;5;241m=\u001b[39m p\u001b[38;5;241m.\u001b[39mcircle(x, y, size\u001b[38;5;241m=\u001b[39m\u001b[38;5;241m10\u001b[39m, color\u001b[38;5;241m=\u001b[39m\u001b[38;5;124m'\u001b[39m\u001b[38;5;124mblue\u001b[39m\u001b[38;5;124m'\u001b[39m, legend_label\u001b[38;5;241m=\u001b[39m\u001b[38;5;124m'\u001b[39m\u001b[38;5;124mdata points\u001b[39m\u001b[38;5;124m'\u001b[39m)\n",
      "File \u001b[0;32m/opt/conda/lib/python3.10/site-packages/bokeh/core/has_props.py:333\u001b[0m, in \u001b[0;36mHasProps.__setattr__\u001b[0;34m(self, name, value)\u001b[0m\n\u001b[1;32m    330\u001b[0m \u001b[38;5;28;01mif\u001b[39;00m \u001b[38;5;28misinstance\u001b[39m(descriptor, \u001b[38;5;28mproperty\u001b[39m): \u001b[38;5;66;03m# Python property\u001b[39;00m\n\u001b[1;32m    331\u001b[0m     \u001b[38;5;28;01mreturn\u001b[39;00m \u001b[38;5;28msuper\u001b[39m()\u001b[38;5;241m.\u001b[39m\u001b[38;5;21m__setattr__\u001b[39m(name, value)\n\u001b[0;32m--> 333\u001b[0m \u001b[38;5;28;43mself\u001b[39;49m\u001b[38;5;241;43m.\u001b[39;49m\u001b[43m_raise_attribute_error_with_matches\u001b[49m\u001b[43m(\u001b[49m\u001b[43mname\u001b[49m\u001b[43m,\u001b[49m\u001b[43m \u001b[49m\u001b[43mproperties\u001b[49m\u001b[43m)\u001b[49m\n",
      "File \u001b[0;32m/opt/conda/lib/python3.10/site-packages/bokeh/core/has_props.py:368\u001b[0m, in \u001b[0;36mHasProps._raise_attribute_error_with_matches\u001b[0;34m(self, name, properties)\u001b[0m\n\u001b[1;32m    365\u001b[0m \u001b[38;5;28;01mif\u001b[39;00m \u001b[38;5;129;01mnot\u001b[39;00m matches:\n\u001b[1;32m    366\u001b[0m     matches, text \u001b[38;5;241m=\u001b[39m \u001b[38;5;28msorted\u001b[39m(properties), \u001b[38;5;124m\"\u001b[39m\u001b[38;5;124mpossible\u001b[39m\u001b[38;5;124m\"\u001b[39m\n\u001b[0;32m--> 368\u001b[0m \u001b[38;5;28;01mraise\u001b[39;00m \u001b[38;5;167;01mAttributeError\u001b[39;00m(\u001b[38;5;124mf\u001b[39m\u001b[38;5;124m\"\u001b[39m\u001b[38;5;124munexpected attribute \u001b[39m\u001b[38;5;132;01m{\u001b[39;00mname\u001b[38;5;132;01m!r}\u001b[39;00m\u001b[38;5;124m to \u001b[39m\u001b[38;5;132;01m{\u001b[39;00m\u001b[38;5;28mself\u001b[39m\u001b[38;5;241m.\u001b[39m\u001b[38;5;18m__class__\u001b[39m\u001b[38;5;241m.\u001b[39m\u001b[38;5;18m__name__\u001b[39m\u001b[38;5;132;01m}\u001b[39;00m\u001b[38;5;124m, \u001b[39m\u001b[38;5;132;01m{\u001b[39;00mtext\u001b[38;5;132;01m}\u001b[39;00m\u001b[38;5;124m attributes are \u001b[39m\u001b[38;5;132;01m{\u001b[39;00mnice_join(matches)\u001b[38;5;132;01m}\u001b[39;00m\u001b[38;5;124m\"\u001b[39m)\n",
      "\u001b[0;31mAttributeError\u001b[0m: unexpected attribute 'interval' to BasicTicker, similar attributes are min_interval or max_interval"
     ]
    }
   ],
   "source": [
    "#Q3. How can you customize the appearance of a Bokeh plot, including the axes, title, and legend?\n",
    "#Ans.\n",
    "#We can customize various aspects of a Bokeh plot using the available attributes and methods of the figure object.\n",
    "#1. Axis labels and titles: we can set the x and y axis labels and the plot title using the x_axis_label, y_axis_label, and title attributes of the figure object, respectively.\n",
    "p = figure(title='My Plot', x_axis_label='X', y_axis_label='Y')\n",
    "\n",
    "#2. Axis ticks and grid lines: You can control the axis ticks and grid lines using the axis attribute of the figure object.\n",
    "p.axis.axis_label_text_font_size = '14pt'  # set axis label font size\n",
    "p.axis.axis_label_text_font_style = 'bold'  # set axis label font style\n",
    "p.axis.major_label_text_font_size = '12pt'  # set axis tick label font size\n",
    "p.axis.major_tick_line_color = None  # remove major tick lines\n",
    "p.axis.minor_tick_line_color = None  # remove minor tick lines\n",
    "p.ygrid.grid_line_color = None  # remove y-axis grid lines\n",
    "p.xaxis[0].ticker.interval = 0.5  # set x-axis tick interval\n",
    "\n",
    "#3. Legend: You can add a legend to your plot using the legend attribute of the glyph renderer object.\n",
    "renderer = p.circle(x, y, size=10, color='blue', legend_label='data points')\n",
    "p.legend.location = 'top_left'  # set the legend position\n",
    "p.legend.title = 'Legend'  # set the legend title\n",
    "p.legend.title_text_font_style = 'bold'  # set the legend title font style\n",
    "p.legend.label_text_font_size = '12pt'  # set the legend label font size\n",
    "\n",
    "#4. Colors and line styles: You can customize the colors and line styles of the glyphs using the color, fill_color, line_color, line_width, line_dash, and alpha properties of the glyph renderer object.\n",
    "renderer = p.circle(x, y, size=10, color='red', line_width=2)"
   ]
  },
  {
   "cell_type": "code",
   "execution_count": null,
   "id": "a34e034f-73d7-4b19-81bf-007d85e93736",
   "metadata": {},
   "outputs": [],
   "source": [
    "#Q4. What is a Bokeh server, and how can you use it to create interactive plots that can be updated in real time?\n",
    "#Ans.\n",
    "#A Bokeh server is a Python application that allows you to create and serve interactive Bokeh plots and applications on the web. With a Bokeh server, you can create dynamic, interactive plots that can be updated in real time based on user input or other events.\n",
    "\n",
    "#Define the Bokeh plot or application using the Bokeh library, as you would with a regular Bokeh plot.\n",
    "#Create a Bokeh server application by importing the curdoc function from the Bokeh library and calling it at the beginning of your code.\n",
    "#Define the function or class that creates the Bokeh plot or application. This function or class should take no arguments and return the Bokeh plot or application object.\n",
    "#Use the curdoc().add_root() function to add the Bokeh plot or application object to the current document.\n",
    "#Start the Bokeh server by running the bokeh serve command in your terminal or command prompt, followed by the name of your Python script.\n",
    "\n",
    "#Once the Bokeh server is running, we can view your interactive Bokeh plot or application in a web browser at the specified URL. \n",
    "#Any updates or interactions with the plot or application will be handled by the Bokeh server in real time.\n",
    "#To update the Bokeh plot or application in real time, we can use Bokeh's built-in callbacks feature, which allows you to define a Python function that will be called whenever a specified event occurs, such as a button click or a change in a slider value.\n"
   ]
  },
  {
   "cell_type": "code",
   "execution_count": null,
   "id": "e7d3ad61-eadd-460b-9757-fea6e26ee610",
   "metadata": {},
   "outputs": [],
   "source": [
    "#Q5. How can you embed a Bokeh plot into a web page or dashboard using Flask or Django?\n",
    "#Ans.\n",
    "#Bokeh plots can be easily embedded into web pages or dashboards created with Flask or Django web frameworks. \n",
    "#embedding Bokeh plots in web pages or dashboards created with Flask or Django is straightforward and allows you to easily share your data visualizations with others on the web.\n",
    "#Flask:\n",
    "#Import the necessary libraries: flask, bokeh, and bokeh.embed.\n",
    "#Create a Flask app instance.\n",
    "#Define a route for the web page where you want to display the Bokeh plot.\n",
    "#Define a function to create the Bokeh plot, using the Bokeh library as usual.\n",
    "#Use the bokeh.embed.json_item() function to convert the Bokeh plot to JSON format.\n",
    "#Pass the JSON data to your HTML template using Flask's render_template() function.\n",
    "#In your HTML template, use JavaScript to create the Bokeh plot using the Bokeh.embed.embed_item() function."
   ]
  },
  {
   "cell_type": "code",
   "execution_count": null,
   "id": "8676a9c2-6dc2-4cae-846b-ca8d45e76c67",
   "metadata": {},
   "outputs": [],
   "source": []
  },
  {
   "cell_type": "code",
   "execution_count": null,
   "id": "7498aee9-3886-4169-84e3-6f443cabefb4",
   "metadata": {},
   "outputs": [],
   "source": []
  },
  {
   "cell_type": "code",
   "execution_count": null,
   "id": "7a586005-c53c-4135-bff1-97e00f4b4139",
   "metadata": {},
   "outputs": [],
   "source": []
  },
  {
   "cell_type": "code",
   "execution_count": null,
   "id": "2bf2b1ba-7d0b-494c-9540-86c895c7bf5f",
   "metadata": {},
   "outputs": [],
   "source": []
  },
  {
   "cell_type": "code",
   "execution_count": null,
   "id": "854b7e82-9152-40b3-b444-af77c83e8987",
   "metadata": {},
   "outputs": [],
   "source": []
  },
  {
   "cell_type": "code",
   "execution_count": null,
   "id": "592d30e1-7631-47ca-8260-33a886fcc315",
   "metadata": {},
   "outputs": [],
   "source": []
  },
  {
   "cell_type": "code",
   "execution_count": null,
   "id": "7596d931-29e4-462f-847d-dcb6e332732c",
   "metadata": {},
   "outputs": [],
   "source": []
  },
  {
   "cell_type": "code",
   "execution_count": null,
   "id": "12e60481-b702-44e1-8c98-61b8d181cb3d",
   "metadata": {},
   "outputs": [],
   "source": []
  }
 ],
 "metadata": {
  "kernelspec": {
   "display_name": "Python 3 (ipykernel)",
   "language": "python",
   "name": "python3"
  },
  "language_info": {
   "codemirror_mode": {
    "name": "ipython",
    "version": 3
   },
   "file_extension": ".py",
   "mimetype": "text/x-python",
   "name": "python",
   "nbconvert_exporter": "python",
   "pygments_lexer": "ipython3",
   "version": "3.10.8"
  }
 },
 "nbformat": 4,
 "nbformat_minor": 5
}
