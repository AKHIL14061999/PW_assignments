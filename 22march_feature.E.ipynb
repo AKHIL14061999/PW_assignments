{
 "cells": [
  {
   "cell_type": "markdown",
   "id": "092aee31-91b8-48aa-b5a4-b5b9a760991f",
   "metadata": {},
   "source": [
    "#Q1. Pearson correlation coefficient is a measure of the linear relationship between two variables. Supposeyou have collected data on the amount of time students spend studying for an exam and their final examscores. Calculate the Pearson correlation coefficient between these two variables and interpret the result.\n",
    "#Ans.\n",
    "#To calculate the Pearson correlation coefficient, you would need to first calculate the covariance between the two variables and then divide it by the product of their standard deviations. \n",
    "#The formula for Pearson correlation coefficient is:\n",
    "r = cov(X,Y) / (std(X) * std(Y))"
   ]
  },
  {
   "cell_type": "markdown",
   "id": "76b3cdd0-12d3-45a7-b76f-809422e86675",
   "metadata": {},
   "source": [
    "#Q2. Spearman's rank correlation is a measure of the monotonic relationship between two variables.Suppose you have collected data on the amount of sleep individuals get each night and their overall jobsatisfaction level on a scale of 1 to 10. Calculate the Spearman's rank correlation between these twovariables and interpret the result.\n",
    "#Ans.\n",
    "#To calculate the Spearman's rank correlation coefficient, you would need to first assign ranks to the data based on their order in the distribution, and then calculate the Pearson correlation coefficient between the ranked data. \n",
    "#The formula for Spearman's rank correlation coefficient is:\n",
    "ρ = 1 - (6 * Σd²) / (n * (n² - 1))"
   ]
  },
  {
   "cell_type": "markdown",
   "id": "38ec52a8-db20-41fc-ac9e-ab2f2e9dc29e",
   "metadata": {},
   "source": [
    "#Q3. Suppose you are conducting a study to examine the relationship between the number of hours ofexercise per week and body mass index (BMI) in a sample of adults. You collected data on both variablesfor 50 participants. Calculate the Pearson correlation coefficient and the Spearman's rank correlationbetween these two variables and compare the results.\n",
    "#Ans.\n",
    "#To calculate the Pearson correlation coefficient and the Spearman's rank correlation coefficient between the number of hours of exercise per week and body mass index (BMI) in a sample of 50 participants, you would need to first calculate the covariance, standard deviation, and ranks for the two variables. \n",
    "#Then, you can use the formulas for Pearson correlation coefficient and Spearman's rank correlation coefficient to calculate the results.\n",
    "mean_X = (sum of X data) / (number of observations)\n",
    "mean_Y = (sum of Y data) / (number of observations)\n",
    "\n",
    "Calculate the standard deviation of X and Y:\n",
    "std_X = sqrt( (sum of (X - mean_X)^2) / (number of observations - 1) )\n",
    "std_Y = sqrt( (sum of (Y - mean_Y)^2) / (number of observations - 1) )\n",
    "\n",
    "Calculate the covariance between X and Y:\n",
    "cov_XY = (sum of (X - mean_X) * (Y - mean_Y)) / (number of observations - 1)\n",
    "\n",
    "Calculate the Pearson correlation coefficient:\n",
    "r = cov_XY / (std_X * std_Y)\n",
    "\n",
    "Calculate the ranks for X and Y:\n",
    "rank_X = rank(X)\n",
    "rank_Y = rank(Y)\n",
    "\n",
    "Calculate the difference in ranks (d) between X and Y:\n",
    "d = rank_X - rank_Y\n",
    "\n",
    "Calculate the Spearmans rank correlation coefficient:\n",
    "ρ = 1 - (6 * Σd²) / (n * (n² - 1))"
   ]
  },
  {
   "cell_type": "code",
   "execution_count": null,
   "id": "f8ce4edf-a568-4699-a7b4-9574be059c42",
   "metadata": {},
   "outputs": [],
   "source": []
  },
  {
   "cell_type": "code",
   "execution_count": null,
   "id": "90bee147-5d16-4015-8276-74bbe2578ea7",
   "metadata": {},
   "outputs": [],
   "source": []
  },
  {
   "cell_type": "code",
   "execution_count": null,
   "id": "4d7185c4-011b-4d1f-a688-d0c118191325",
   "metadata": {},
   "outputs": [],
   "source": []
  },
  {
   "cell_type": "code",
   "execution_count": null,
   "id": "4734b118-524b-4664-b5bc-4c155af6e1a5",
   "metadata": {},
   "outputs": [],
   "source": []
  },
  {
   "cell_type": "code",
   "execution_count": null,
   "id": "c2c3bd0f-0d7e-4c31-8218-c719dd378d91",
   "metadata": {},
   "outputs": [],
   "source": []
  }
 ],
 "metadata": {
  "kernelspec": {
   "display_name": "Python 3 (ipykernel)",
   "language": "python",
   "name": "python3"
  },
  "language_info": {
   "codemirror_mode": {
    "name": "ipython",
    "version": 3
   },
   "file_extension": ".py",
   "mimetype": "text/x-python",
   "name": "python",
   "nbconvert_exporter": "python",
   "pygments_lexer": "ipython3",
   "version": "3.10.8"
  }
 },
 "nbformat": 4,
 "nbformat_minor": 5
}
